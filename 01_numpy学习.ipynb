{
 "cells": [
  {
   "metadata": {},
   "cell_type": "markdown",
   "source": "# 2.1ndarray",
   "id": "5b7d53c26147c4ad"
  },
  {
   "metadata": {},
   "cell_type": "markdown",
   "source": "## 1.ndarray的特性",
   "id": "2d29568b32986c5a"
  },
  {
   "metadata": {},
   "cell_type": "markdown",
   "source": "### 多维性",
   "id": "a0e5022bb5debb8e"
  },
  {
   "metadata": {
    "ExecuteTime": {
     "end_time": "2025-08-02T15:04:21.660971Z",
     "start_time": "2025-08-02T15:04:21.654270Z"
    }
   },
   "cell_type": "code",
   "source": "import numpy as np",
   "id": "e4b1781a7781aab0",
   "outputs": [],
   "execution_count": 2
  },
  {
   "metadata": {
    "ExecuteTime": {
     "end_time": "2025-08-01T07:38:29.873631Z",
     "start_time": "2025-08-01T07:38:29.867538Z"
    }
   },
   "cell_type": "code",
   "source": [
    "arr = np.array(5)  # 创建0维的ndarray数组\n",
    "print(arr)\n",
    "print('arr的维度：', arr.ndim)   # 数组的维度number of dimensions"
   ],
   "id": "de5085de949612a0",
   "outputs": [
    {
     "name": "stdout",
     "output_type": "stream",
     "text": [
      "5\n",
      "arr的维度： 0\n"
     ]
    }
   ],
   "execution_count": 2
  },
  {
   "metadata": {
    "ExecuteTime": {
     "end_time": "2025-08-01T07:40:07.578193Z",
     "start_time": "2025-08-01T07:40:07.568817Z"
    }
   },
   "cell_type": "code",
   "source": [
    "arr = np.array([1, 2, 3])  # 创建1维的ndarray数组\n",
    "print(arr)\n",
    "print('arr的维度：', arr.ndim)   # 数组的维度number of dimensions"
   ],
   "id": "9d036ab5cd7b216b",
   "outputs": [
    {
     "name": "stdout",
     "output_type": "stream",
     "text": [
      "[1 2 3]\n",
      "arr的维度： 1\n"
     ]
    }
   ],
   "execution_count": 3
  },
  {
   "metadata": {
    "ExecuteTime": {
     "end_time": "2025-08-01T07:40:55.736489Z",
     "start_time": "2025-08-01T07:40:55.730568Z"
    }
   },
   "cell_type": "code",
   "source": [
    "arr = np.array([[1, 2, 3], [4, 5, 6]])  # 创建2维的ndarray数组\n",
    "print(arr)\n",
    "print('arr的维度：', arr.ndim)   # 数组的维度number of dimensions"
   ],
   "id": "be1480f704e0bfd9",
   "outputs": [
    {
     "name": "stdout",
     "output_type": "stream",
     "text": [
      "[[1 2 3]\n",
      " [4 5 6]]\n",
      "arr的维度： 2\n"
     ]
    }
   ],
   "execution_count": 4
  },
  {
   "metadata": {},
   "cell_type": "markdown",
   "source": "### 同质性",
   "id": "af8877098288bdb8"
  },
  {
   "metadata": {
    "ExecuteTime": {
     "end_time": "2025-08-01T07:42:24.155264Z",
     "start_time": "2025-08-01T07:42:24.147823Z"
    }
   },
   "cell_type": "code",
   "source": [
    "arr = np.array([1, 'hello'])  # 不同的数据类型会被强制转换成相同的数据类型\n",
    "print(arr)"
   ],
   "id": "ade3d72a4caa8e8b",
   "outputs": [
    {
     "name": "stdout",
     "output_type": "stream",
     "text": [
      "['1' 'hello']\n"
     ]
    }
   ],
   "execution_count": 5
  },
  {
   "metadata": {
    "ExecuteTime": {
     "end_time": "2025-08-01T07:42:46.099212Z",
     "start_time": "2025-08-01T07:42:46.095919Z"
    }
   },
   "cell_type": "code",
   "source": [
    "arr = np.array([1, 2.5])  # 不同的数据类型会被强制转换成相同的数据类型\n",
    "print(arr)"
   ],
   "id": "8b657b116795f286",
   "outputs": [
    {
     "name": "stdout",
     "output_type": "stream",
     "text": [
      "[1.  2.5]\n"
     ]
    }
   ],
   "execution_count": 8
  },
  {
   "metadata": {},
   "cell_type": "markdown",
   "source": "## 2.ndarray的属性",
   "id": "82b7115d7db0c81f"
  },
  {
   "metadata": {
    "ExecuteTime": {
     "end_time": "2025-08-01T07:43:37.002969Z",
     "start_time": "2025-08-01T07:43:36.994826Z"
    }
   },
   "cell_type": "code",
   "source": [
    "arr = np.array(1)\n",
    "print(arr)\n",
    "print('数组的形状：', arr.shape)\n",
    "print('数组的维度：', arr.ndim)\n",
    "print('元素的个数：', arr.size)\n",
    "print('元素的数据类型：', arr.dtype)\n",
    "print('元素的转置', arr.T)"
   ],
   "id": "ba35da240b2be6ac",
   "outputs": [
    {
     "name": "stdout",
     "output_type": "stream",
     "text": [
      "1\n",
      "数组的形状： ()\n",
      "数组的维度： 0\n",
      "元素的个数： 1\n",
      "元素的数据类型： int64\n",
      "元素的转置 1\n"
     ]
    }
   ],
   "execution_count": 9
  },
  {
   "metadata": {
    "ExecuteTime": {
     "end_time": "2025-08-01T07:46:15.032081Z",
     "start_time": "2025-08-01T07:46:15.024491Z"
    }
   },
   "cell_type": "code",
   "source": [
    "arr = np.array([1, 2.5, 3])\n",
    "print(arr)\n",
    "print('数组的形状：', arr.shape)\n",
    "print('数组的维度：', arr.ndim)\n",
    "print('元素的个数：', arr.size)\n",
    "print('元素的数据类型：', arr.dtype)\n",
    "print('元素的转置', arr.T)"
   ],
   "id": "cd82f5595a5b9561",
   "outputs": [
    {
     "name": "stdout",
     "output_type": "stream",
     "text": [
      "[1.  2.5 3. ]\n",
      "数组的形状： (3,)\n",
      "数组的维度： 1\n",
      "元素的个数： 3\n",
      "元素的数据类型： float64\n",
      "元素的转置 [1.  2.5 3. ]\n"
     ]
    }
   ],
   "execution_count": 10
  },
  {
   "metadata": {
    "ExecuteTime": {
     "end_time": "2025-08-01T07:46:31.465058Z",
     "start_time": "2025-08-01T07:46:31.460973Z"
    }
   },
   "cell_type": "code",
   "source": [
    "arr = np.array([[1,2,3],[4,5,6]])\n",
    "print(arr)\n",
    "print('数组的形状：', arr.shape)\n",
    "print('数组的维度：', arr.ndim)\n",
    "print('元素的个数：', arr.size)\n",
    "print('元素的转置', arr.T)"
   ],
   "id": "3a82fc54fb013ec5",
   "outputs": [
    {
     "name": "stdout",
     "output_type": "stream",
     "text": [
      "[[1 2 3]\n",
      " [4 5 6]]\n",
      "数组的形状： (2, 3)\n",
      "数组的维度： 2\n",
      "元素的个数： 6\n",
      "元素的转置 [[1 4]\n",
      " [2 5]\n",
      " [3 6]]\n"
     ]
    }
   ],
   "execution_count": 11
  },
  {
   "metadata": {},
   "cell_type": "markdown",
   "source": "## 3.ndarray的创建",
   "id": "bf9f1badabeac91f"
  },
  {
   "metadata": {
    "ExecuteTime": {
     "end_time": "2025-08-01T07:52:06.944358Z",
     "start_time": "2025-08-01T07:52:06.941878Z"
    }
   },
   "cell_type": "code",
   "source": [
    "# 基础的创建方法\n",
    "list1 = [4, 5, 6]\n",
    "arr = np.array(list1,dtype=np.float64)\n",
    "print(arr.ndim)  # 属性\n",
    "print(arr)"
   ],
   "id": "f535620cd2b10fd3",
   "outputs": [
    {
     "name": "stdout",
     "output_type": "stream",
     "text": [
      "1\n",
      "[4. 5. 6.]\n"
     ]
    }
   ],
   "execution_count": 16
  },
  {
   "metadata": {
    "ExecuteTime": {
     "end_time": "2025-08-01T07:52:08.359245Z",
     "start_time": "2025-08-01T07:52:08.355760Z"
    }
   },
   "cell_type": "code",
   "source": [
    "# copy\n",
    "arr1 = np.copy(arr)  # 元素跟原始的数组相同，但是不是一个数组了\n",
    "print(arr1)\n",
    "arr1[0] = 8\n",
    "print(arr1)\n",
    "print(arr)"
   ],
   "id": "f524e13d77cb16a1",
   "outputs": [
    {
     "name": "stdout",
     "output_type": "stream",
     "text": [
      "[4. 5. 6.]\n",
      "[8. 5. 6.]\n",
      "[4. 5. 6.]\n"
     ]
    }
   ],
   "execution_count": 17
  },
  {
   "metadata": {
    "ExecuteTime": {
     "end_time": "2025-08-01T07:53:27.138261Z",
     "start_time": "2025-08-01T07:53:27.135974Z"
    }
   },
   "cell_type": "code",
   "source": [
    "# 预定义形状\n",
    "# 全0  全1  未初始化  固定值\n",
    "# 全0\n",
    "arr = np.zeros((2,3),dtype=int)\n",
    "print(arr)\n",
    "print(arr.dtype)"
   ],
   "id": "ad664389195b94f0",
   "outputs": [
    {
     "name": "stdout",
     "output_type": "stream",
     "text": [
      "[[0 0 0]\n",
      " [0 0 0]]\n",
      "int64\n"
     ]
    }
   ],
   "execution_count": 18
  },
  {
   "metadata": {
    "ExecuteTime": {
     "end_time": "2025-08-01T07:55:23.751691Z",
     "start_time": "2025-08-01T07:55:23.744354Z"
    }
   },
   "cell_type": "code",
   "source": [
    "arr = np.zeros((200,),dtype=int)\n",
    "print(arr)"
   ],
   "id": "62e4c0fb5f67187c",
   "outputs": [
    {
     "name": "stdout",
     "output_type": "stream",
     "text": [
      "[0 0 0 0 0 0 0 0 0 0 0 0 0 0 0 0 0 0 0 0 0 0 0 0 0 0 0 0 0 0 0 0 0 0 0 0 0\n",
      " 0 0 0 0 0 0 0 0 0 0 0 0 0 0 0 0 0 0 0 0 0 0 0 0 0 0 0 0 0 0 0 0 0 0 0 0 0\n",
      " 0 0 0 0 0 0 0 0 0 0 0 0 0 0 0 0 0 0 0 0 0 0 0 0 0 0 0 0 0 0 0 0 0 0 0 0 0\n",
      " 0 0 0 0 0 0 0 0 0 0 0 0 0 0 0 0 0 0 0 0 0 0 0 0 0 0 0 0 0 0 0 0 0 0 0 0 0\n",
      " 0 0 0 0 0 0 0 0 0 0 0 0 0 0 0 0 0 0 0 0 0 0 0 0 0 0 0 0 0 0 0 0 0 0 0 0 0\n",
      " 0 0 0 0 0 0 0 0 0 0 0 0 0 0 0]\n"
     ]
    }
   ],
   "execution_count": 19
  },
  {
   "metadata": {
    "ExecuteTime": {
     "end_time": "2025-08-01T07:56:10.330855Z",
     "start_time": "2025-08-01T07:56:10.327073Z"
    }
   },
   "cell_type": "code",
   "source": [
    "# 全1\n",
    "arr = np.ones((5,8),dtype=int)\n",
    "print(arr)"
   ],
   "id": "a15738def6cc08bc",
   "outputs": [
    {
     "name": "stdout",
     "output_type": "stream",
     "text": [
      "[[1 1 1 1 1 1 1 1]\n",
      " [1 1 1 1 1 1 1 1]\n",
      " [1 1 1 1 1 1 1 1]\n",
      " [1 1 1 1 1 1 1 1]\n",
      " [1 1 1 1 1 1 1 1]]\n"
     ]
    }
   ],
   "execution_count": 22
  },
  {
   "metadata": {
    "ExecuteTime": {
     "end_time": "2025-08-01T07:56:18.086342Z",
     "start_time": "2025-08-01T07:56:18.084148Z"
    }
   },
   "cell_type": "code",
   "source": [
    "# 未初始化\n",
    "arr = np.empty((2,3))\n",
    "print(arr)"
   ],
   "id": "9c84a30f3b02e86b",
   "outputs": [
    {
     "name": "stdout",
     "output_type": "stream",
     "text": [
      "[[0. 0. 0.]\n",
      " [0. 0. 0.]]\n"
     ]
    }
   ],
   "execution_count": 23
  },
  {
   "metadata": {
    "ExecuteTime": {
     "end_time": "2025-08-01T07:56:55.953100Z",
     "start_time": "2025-08-01T07:56:55.950494Z"
    }
   },
   "cell_type": "code",
   "source": [
    "arr = np.empty((4, 2))\n",
    "print(arr)"
   ],
   "id": "4f8fe0ed498d8a1",
   "outputs": [
    {
     "name": "stdout",
     "output_type": "stream",
     "text": [
      "[[0. 0.]\n",
      " [0. 0.]\n",
      " [0. 0.]\n",
      " [0. 0.]]\n"
     ]
    }
   ],
   "execution_count": 27
  },
  {
   "metadata": {
    "ExecuteTime": {
     "end_time": "2025-08-01T07:56:57.915996Z",
     "start_time": "2025-08-01T07:56:57.913120Z"
    }
   },
   "cell_type": "code",
   "source": [
    "arr = np.full((3,4),2025)\n",
    "print(arr)"
   ],
   "id": "53004b9b1dfad1d2",
   "outputs": [
    {
     "name": "stdout",
     "output_type": "stream",
     "text": [
      "[[2025 2025 2025 2025]\n",
      " [2025 2025 2025 2025]\n",
      " [2025 2025 2025 2025]]\n"
     ]
    }
   ],
   "execution_count": 28
  },
  {
   "metadata": {
    "ExecuteTime": {
     "end_time": "2025-08-01T07:57:50.403672Z",
     "start_time": "2025-08-01T07:57:50.397228Z"
    }
   },
   "cell_type": "code",
   "source": [
    "arr1 = np.zeros_like(arr)\n",
    "print(arr1)\n",
    "arr1 = np.empty_like(arr)\n",
    "print(arr1)\n",
    "arr1 = np.ones_like(arr)\n",
    "print(arr1)\n",
    "arr1 = np.full_like(arr,2026)\n",
    "print(arr1)"
   ],
   "id": "587e7bbe0d00ccef",
   "outputs": [
    {
     "name": "stdout",
     "output_type": "stream",
     "text": [
      "[[0 0 0 0]\n",
      " [0 0 0 0]\n",
      " [0 0 0 0]]\n",
      "[[0 0 0 0]\n",
      " [0 0 0 0]\n",
      " [0 0 0 0]]\n",
      "[[1 1 1 1]\n",
      " [1 1 1 1]\n",
      " [1 1 1 1]]\n",
      "[[2026 2026 2026 2026]\n",
      " [2026 2026 2026 2026]\n",
      " [2026 2026 2026 2026]]\n"
     ]
    }
   ],
   "execution_count": 29
  },
  {
   "metadata": {
    "ExecuteTime": {
     "end_time": "2025-08-01T07:59:48.386309Z",
     "start_time": "2025-08-01T07:59:48.383748Z"
    }
   },
   "cell_type": "code",
   "source": [
    "# 等差数列 2 4 6 8 10\n",
    "arr = np.arange(1, 51, 1) # start,end,step(步长）\n",
    "print(arr)"
   ],
   "id": "daf665a7206c17d",
   "outputs": [
    {
     "name": "stdout",
     "output_type": "stream",
     "text": [
      "[ 1  2  3  4  5  6  7  8  9 10 11 12 13 14 15 16 17 18 19 20 21 22 23 24\n",
      " 25 26 27 28 29 30 31 32 33 34 35 36 37 38 39 40 41 42 43 44 45 46 47 48\n",
      " 49 50]\n"
     ]
    }
   ],
   "execution_count": 30
  },
  {
   "metadata": {
    "ExecuteTime": {
     "end_time": "2025-08-01T08:00:00.322969Z",
     "start_time": "2025-08-01T08:00:00.319416Z"
    }
   },
   "cell_type": "code",
   "source": [
    "# 等间隔数列\n",
    "arr = np.linspace(0,100,5)\n",
    "print(arr)"
   ],
   "id": "389eb32ecaff854b",
   "outputs": [
    {
     "name": "stdout",
     "output_type": "stream",
     "text": [
      "[  0.  25.  50.  75. 100.]\n"
     ]
    }
   ],
   "execution_count": 31
  },
  {
   "metadata": {
    "ExecuteTime": {
     "end_time": "2025-08-01T08:03:36.654889Z",
     "start_time": "2025-08-01T08:03:36.645536Z"
    }
   },
   "cell_type": "code",
   "source": [
    "arr = np.linspace(0,100,5,dtype=int)\n",
    "print(arr)\n",
    "arr = np.arange(0,101, 25)\n",
    "print(arr)"
   ],
   "id": "41cef360863c848b",
   "outputs": [
    {
     "name": "stdout",
     "output_type": "stream",
     "text": [
      "[  0  25  50  75 100]\n",
      "[  0  25  50  75 100]\n"
     ]
    }
   ],
   "execution_count": 32
  },
  {
   "metadata": {
    "ExecuteTime": {
     "end_time": "2025-08-01T08:05:16.813454Z",
     "start_time": "2025-08-01T08:05:16.810946Z"
    }
   },
   "cell_type": "code",
   "source": [
    "# 对数间隔数列\n",
    "arr = np.logspace(0,4,3,base=2)\n",
    "print(arr)"
   ],
   "id": "90b51f297aea142e",
   "outputs": [
    {
     "name": "stdout",
     "output_type": "stream",
     "text": [
      "[ 1.  4. 16.]\n"
     ]
    }
   ],
   "execution_count": 35
  },
  {
   "metadata": {
    "ExecuteTime": {
     "end_time": "2025-08-01T08:05:31.251816Z",
     "start_time": "2025-08-01T08:05:31.248210Z"
    }
   },
   "cell_type": "code",
   "source": [
    "arr = np.linspace(0,4,3)\n",
    "print(arr)"
   ],
   "id": "8ee2cb45493c7708",
   "outputs": [
    {
     "name": "stdout",
     "output_type": "stream",
     "text": [
      "[0. 2. 4.]\n"
     ]
    }
   ],
   "execution_count": 36
  },
  {
   "metadata": {
    "ExecuteTime": {
     "end_time": "2025-08-01T08:06:12.319289Z",
     "start_time": "2025-08-01T08:06:12.312956Z"
    }
   },
   "cell_type": "code",
   "source": [
    "arr = np.logspace(0,4,3)\n",
    "print(arr)"
   ],
   "id": "d46338e1d98138d4",
   "outputs": [
    {
     "name": "stdout",
     "output_type": "stream",
     "text": [
      "[1.e+00 1.e+02 1.e+04]\n"
     ]
    }
   ],
   "execution_count": 37
  },
  {
   "metadata": {
    "ExecuteTime": {
     "end_time": "2025-08-01T15:19:28.053268Z",
     "start_time": "2025-08-01T15:19:28.049993Z"
    }
   },
   "cell_type": "code",
   "source": [
    "# 特殊矩阵\n",
    "# 单位矩阵：主对角线上的数字为1，其他的数字为0\n",
    "arr = np.eye(3,4,dtype=int)\n",
    "print(arr)"
   ],
   "id": "cd4d4a241313ddb3",
   "outputs": [
    {
     "name": "stdout",
     "output_type": "stream",
     "text": [
      "[[1 0 0 0]\n",
      " [0 1 0 0]\n",
      " [0 0 1 0]]\n"
     ]
    }
   ],
   "execution_count": 3
  },
  {
   "metadata": {
    "ExecuteTime": {
     "end_time": "2025-08-01T15:20:11.223267Z",
     "start_time": "2025-08-01T15:20:11.220442Z"
    }
   },
   "cell_type": "code",
   "source": [
    "# 对角矩阵：主对角线上非零的0，其他的数字为0\n",
    "arr = np.diag([5,1,2,3])\n",
    "print(arr)"
   ],
   "id": "70ca6207cf4d6615",
   "outputs": [
    {
     "name": "stdout",
     "output_type": "stream",
     "text": [
      "[[5 0 0 0]\n",
      " [0 1 0 0]\n",
      " [0 0 2 0]\n",
      " [0 0 0 3]]\n"
     ]
    }
   ],
   "execution_count": 4
  },
  {
   "metadata": {
    "ExecuteTime": {
     "end_time": "2025-08-01T15:24:19.269335Z",
     "start_time": "2025-08-01T15:24:19.266173Z"
    }
   },
   "cell_type": "code",
   "source": [
    "# 随机数组的生成\n",
    "# 生成0到1之间的随机浮点数（均匀分布）\n",
    "arr = np.random.rand(2,3)\n",
    "print(arr)"
   ],
   "id": "5899d8396e0512ac",
   "outputs": [
    {
     "name": "stdout",
     "output_type": "stream",
     "text": [
      "[[0.12390517 0.97416498 0.8583895 ]\n",
      " [0.85884746 0.39221408 0.6403104 ]]\n"
     ]
    }
   ],
   "execution_count": 8
  },
  {
   "metadata": {
    "ExecuteTime": {
     "end_time": "2025-08-01T15:24:30.367868Z",
     "start_time": "2025-08-01T15:24:30.364793Z"
    }
   },
   "cell_type": "code",
   "source": [
    "# 生成指定范围区间的随机浮点数\n",
    "arr = np.random.uniform(3, 6,(2,3))\n",
    "print(arr)"
   ],
   "id": "37eb3663103b28b7",
   "outputs": [
    {
     "name": "stdout",
     "output_type": "stream",
     "text": [
      "[[4.77797859 5.74264157 3.45920386]\n",
      " [3.29832869 4.96324932 4.52606264]]\n"
     ]
    }
   ],
   "execution_count": 9
  },
  {
   "metadata": {
    "ExecuteTime": {
     "end_time": "2025-08-01T15:32:13.830621Z",
     "start_time": "2025-08-01T15:32:13.823444Z"
    }
   },
   "cell_type": "code",
   "source": [
    "# 生成指定范围区间的随机整数\n",
    "arr = np.random.randint(3, 30,(2,3))\n",
    "print(arr)"
   ],
   "id": "11e278f1ea7324e4",
   "outputs": [
    {
     "name": "stdout",
     "output_type": "stream",
     "text": [
      "[[25 23 25]\n",
      " [22 28 28]]\n"
     ]
    }
   ],
   "execution_count": 10
  },
  {
   "metadata": {
    "ExecuteTime": {
     "end_time": "2025-08-01T15:32:18.756758Z",
     "start_time": "2025-08-01T15:32:18.750307Z"
    }
   },
   "cell_type": "code",
   "source": [
    "# 生成随机数列（正态分布）（-3到3之间）\n",
    "# 两边小，中间大\n",
    "arr = np.random.randn(2,3)\n",
    "print(arr)"
   ],
   "id": "c0e7d66f9746ab01",
   "outputs": [
    {
     "name": "stdout",
     "output_type": "stream",
     "text": [
      "[[ 0.3475257  -0.0597801   0.26753726]\n",
      " [-0.55571927 -0.10916802  1.67764687]]\n"
     ]
    }
   ],
   "execution_count": 11
  },
  {
   "metadata": {
    "ExecuteTime": {
     "end_time": "2025-08-01T15:35:42.956Z",
     "start_time": "2025-08-01T15:35:42.951905Z"
    }
   },
   "cell_type": "code",
   "source": [
    "# 设置随机种子\n",
    "np.random.seed(20)\n",
    "arr = np.random.randint(1,10,(2,5))\n",
    "print(arr)"
   ],
   "id": "582c684ffc18fded",
   "outputs": [
    {
     "name": "stdout",
     "output_type": "stream",
     "text": [
      "[[4 5 7 8 3]\n",
      " [1 7 9 6 4]]\n"
     ]
    }
   ],
   "execution_count": 14
  },
  {
   "metadata": {},
   "cell_type": "markdown",
   "source": [
    "## 4. ndarray的数据类型\n",
    "### 布尔类型 bool\n",
    "### 整数类型  int  uint\n",
    "### 浮点数   float\n",
    "### 复数  complex"
   ],
   "id": "c4bb10d7beb81c53"
  },
  {
   "metadata": {
    "ExecuteTime": {
     "end_time": "2025-08-01T15:44:29.620806Z",
     "start_time": "2025-08-01T15:44:29.611273Z"
    }
   },
   "cell_type": "code",
   "source": [
    "arr = np.array([1,0,127,0],dtype= bool)\n",
    "print(arr)\n",
    "\n",
    "arr = np.array([1,0,127,0],dtype= np.int8)\n",
    "print(arr)\n",
    "\n",
    "arr = np.array([1,2,3],dtype='i8')\n",
    "print(arr)"
   ],
   "id": "42cc332210f3c851",
   "outputs": [
    {
     "name": "stdout",
     "output_type": "stream",
     "text": [
      "[ True False  True False]\n",
      "[  1   0 127   0]\n",
      "[1 2 3]\n"
     ]
    }
   ],
   "execution_count": 20
  },
  {
   "metadata": {},
   "cell_type": "markdown",
   "source": "## 5. 索引与切片",
   "id": "18837d493aec96ab"
  },
  {
   "metadata": {
    "ExecuteTime": {
     "end_time": "2025-08-01T15:44:33.225411Z",
     "start_time": "2025-08-01T15:44:33.221459Z"
    }
   },
   "cell_type": "code",
   "source": [
    "# 一维数组的索引与切片\n",
    "arr = np.random.randint(1,100,20)\n",
    "print(arr)"
   ],
   "id": "7ad0edd8f6d3c7ba",
   "outputs": [
    {
     "name": "stdout",
     "output_type": "stream",
     "text": [
      "[17 63 17  8 99  7 27 14 76 59 26  4 75 76 62 78 84 58 95 33]\n"
     ]
    }
   ],
   "execution_count": 21
  },
  {
   "metadata": {
    "ExecuteTime": {
     "end_time": "2025-08-01T15:45:01.013485Z",
     "start_time": "2025-08-01T15:45:01.008142Z"
    }
   },
   "cell_type": "code",
   "source": [
    "print(arr[10])\n",
    "print(arr[:]) # 获取全部的数据\n",
    "print(arr[2:5])  # start:end+1 左包右不包\n",
    "print(arr[slice(2,15,3)])  #start,end,step\n",
    "print(arr[ (arr>10)  & (arr<70) ]) # 布尔索引"
   ],
   "id": "af99e4f18af4d41a",
   "outputs": [
    {
     "name": "stdout",
     "output_type": "stream",
     "text": [
      "26\n",
      "[17 63 17  8 99  7 27 14 76 59 26  4 75 76 62 78 84 58 95 33]\n",
      "[17  8 99]\n",
      "[17  7 76  4 62]\n",
      "[17 63 17 27 14 59 26 62 58 33]\n"
     ]
    }
   ],
   "execution_count": 22
  },
  {
   "metadata": {
    "ExecuteTime": {
     "end_time": "2025-08-01T15:47:06.109279Z",
     "start_time": "2025-08-01T15:47:06.102602Z"
    }
   },
   "cell_type": "code",
   "source": [
    "# 二维数组的索引与切片\n",
    "arr = np.random.randint(1,100,(4,8))\n",
    "print(arr)"
   ],
   "id": "39146d581203eded",
   "outputs": [
    {
     "name": "stdout",
     "output_type": "stream",
     "text": [
      "[[11  7 76 19  4 78 18 44]\n",
      " [17 19 80 91 60 72 76 30]\n",
      " [46  7 64 79 25 19 94 34]\n",
      " [79 43 95  4 19 71 53 23]]\n"
     ]
    }
   ],
   "execution_count": 23
  },
  {
   "metadata": {
    "ExecuteTime": {
     "end_time": "2025-08-01T15:47:24.310215Z",
     "start_time": "2025-08-01T15:47:24.306496Z"
    }
   },
   "cell_type": "code",
   "source": [
    "print(arr[1,3])  # 索引\n",
    "print(arr[1,2:5])\n",
    "print(arr[2][arr[2] > 50])\n",
    "print(arr[:,3])"
   ],
   "id": "f9fb53a5e4393367",
   "outputs": [
    {
     "name": "stdout",
     "output_type": "stream",
     "text": [
      "91\n",
      "[80 91 60]\n",
      "[64 79 94]\n",
      "[19 91 79  4]\n"
     ]
    }
   ],
   "execution_count": 24
  },
  {
   "metadata": {},
   "cell_type": "markdown",
   "source": "## 6.ndarray的运算",
   "id": "96372ce24e1d321d"
  },
  {
   "metadata": {},
   "cell_type": "code",
   "source": [
    "# 算术运算\n",
    "a = np.array([1,2,3])\n",
    "b = np.array([4,5,6])\n",
    "print(a + b)\n",
    "print(a - b)\n",
    "print(a * b)\n",
    "print(a / b)\n",
    "print(a ** 2)"
   ],
   "id": "2be827ababd2002a",
   "outputs": [],
   "execution_count": null
  },
  {
   "metadata": {},
   "cell_type": "code",
   "source": [
    "c = [1, 2, 3]\n",
    "d = [4, 5, 6]\n",
    "for i in range(len(c)):\n",
    "    d[i] = d[i]+c[i]\n",
    "print(d)"
   ],
   "id": "34671bea306216d2",
   "outputs": [],
   "execution_count": null
  },
  {
   "metadata": {},
   "cell_type": "code",
   "source": [
    "a = np.array([[1,2,3],[4,5,6],[7,8,9]])\n",
    "b = np.array([[4,5,6],[7,8,9],[1,2,3]])\n",
    "print(a + b)\n",
    "print(a - b)\n",
    "print(a * b)\n",
    "print(a / b)\n",
    "print(a ** 2)"
   ],
   "id": "717916a1684b1e3f",
   "outputs": [],
   "execution_count": null
  },
  {
   "metadata": {},
   "cell_type": "code",
   "source": [
    "# 数组与标量之间的算术运算\n",
    "a = np.array([[1,2,3],[4,5,6],[7,8,9]])\n",
    "print(a + 3)\n",
    "print(a * 3)"
   ],
   "id": "f282910a8bf3855c",
   "outputs": [],
   "execution_count": null
  },
  {
   "metadata": {},
   "cell_type": "code",
   "source": [
    "# 广播机制: 1.获取形状 2.是否可广播\n",
    "# 同一维度：相同、1\n",
    "a = np.array([1,2,3]) #1*3\n",
    "b = np.array([[4],[5],[6]])  #3*1\n",
    "print(b - a )\n",
    "'''a\n",
    " 1 2 3\n",
    " 1 2 3\n",
    " 1 2 3\n",
    " b\n",
    " 4 4 4\n",
    " 5 5 5\n",
    " 6 6 6\n",
    "'''"
   ],
   "id": "f94e5d0ead6413be",
   "outputs": [],
   "execution_count": null
  },
  {
   "metadata": {},
   "cell_type": "code",
   "source": [
    "a = np.array([1,2,3]) #1*3\n",
    "b = np.array([4,5])  #1*2\n",
    "print(b - a )"
   ],
   "id": "e1fd3560ea778ac5",
   "outputs": [],
   "execution_count": null
  },
  {
   "metadata": {},
   "cell_type": "code",
   "source": [
    "# 矩阵运算\n",
    "a = np.array([[1,2,3],[4,5,6],[7,8,9]])\n",
    "b = np.array([[4,5,6],[7,8,9],[1,2,3]])\n",
    "print(a @ b)"
   ],
   "id": "90cbefa6160f8ebf",
   "outputs": [],
   "execution_count": null
  },
  {
   "metadata": {},
   "cell_type": "code",
   "source": [
    "'''a\n",
    "1 2 3\n",
    "4 5 6\n",
    "7 8 9\n",
    "b\n",
    "4 5 6\n",
    "7 8 9\n",
    "\n",
    "1 2 3'''\n"
   ],
   "id": "e8a83ac605803b40",
   "outputs": [],
   "execution_count": null
  },
  {
   "metadata": {},
   "cell_type": "markdown",
   "source": "# 2.3 numpy中的常用函数",
   "id": "1e688453f961ff05"
  },
  {
   "metadata": {},
   "cell_type": "markdown",
   "source": "## 1. 基本数学函数",
   "id": "4ce94743517c3468"
  },
  {
   "metadata": {
    "ExecuteTime": {
     "end_time": "2025-08-02T15:04:37.672238Z",
     "start_time": "2025-08-02T15:04:37.664013Z"
    }
   },
   "cell_type": "code",
   "source": [
    "# 计算平方根\n",
    "print(np.sqrt(9))\n",
    "print(np.sqrt([1,4,9]))\n",
    "arr = np.array([1,25,81])\n",
    "print(np.sqrt(arr))"
   ],
   "id": "d9f9f3e02aad59d9",
   "outputs": [
    {
     "name": "stdout",
     "output_type": "stream",
     "text": [
      "3.0\n",
      "[1. 2. 3.]\n",
      "[1. 5. 9.]\n"
     ]
    }
   ],
   "execution_count": 3
  },
  {
   "metadata": {
    "ExecuteTime": {
     "end_time": "2025-08-02T15:05:55.507878Z",
     "start_time": "2025-08-02T15:05:55.505217Z"
    }
   },
   "cell_type": "code",
   "source": [
    "# 计算指数  e^x  = y\n",
    "print(np.exp(1))"
   ],
   "id": "e951d6fdbe07350",
   "outputs": [
    {
     "name": "stdout",
     "output_type": "stream",
     "text": [
      "2.718281828459045\n"
     ]
    }
   ],
   "execution_count": 4
  },
  {
   "metadata": {
    "ExecuteTime": {
     "end_time": "2025-08-02T15:06:00.051625Z",
     "start_time": "2025-08-02T15:06:00.048335Z"
    }
   },
   "cell_type": "code",
   "source": [
    "# 计算自然对数  ln y = x\n",
    "print(np.log(2.71))"
   ],
   "id": "afdfc019973f74ed",
   "outputs": [
    {
     "name": "stdout",
     "output_type": "stream",
     "text": [
      "0.9969486348916096\n"
     ]
    }
   ],
   "execution_count": 5
  },
  {
   "metadata": {
    "ExecuteTime": {
     "end_time": "2025-08-02T15:06:03.112585Z",
     "start_time": "2025-08-02T15:06:03.109781Z"
    }
   },
   "cell_type": "code",
   "source": [
    "# 计算正弦值、余弦值\n",
    "print(np.sin(np.pi/2))\n",
    "print(np.cos(np.pi))"
   ],
   "id": "ce24dd0da699e37f",
   "outputs": [
    {
     "name": "stdout",
     "output_type": "stream",
     "text": [
      "1.0\n",
      "-1.0\n"
     ]
    }
   ],
   "execution_count": 6
  },
  {
   "metadata": {
    "ExecuteTime": {
     "end_time": "2025-08-02T15:06:05.186050Z",
     "start_time": "2025-08-02T15:06:05.182892Z"
    }
   },
   "cell_type": "code",
   "source": [
    "# 计算绝对值\n",
    "arr = np.array([-1, 1, 2, -3])\n",
    "print(np.abs(arr))"
   ],
   "id": "288f4b64e1f43aca",
   "outputs": [
    {
     "name": "stdout",
     "output_type": "stream",
     "text": [
      "[1 1 2 3]\n"
     ]
    }
   ],
   "execution_count": 7
  },
  {
   "metadata": {
    "ExecuteTime": {
     "end_time": "2025-08-02T15:06:06.801832Z",
     "start_time": "2025-08-02T15:06:06.798585Z"
    }
   },
   "cell_type": "code",
   "source": [
    "# 计算a的b次幂\n",
    "print(np.power(arr,3))"
   ],
   "id": "29d329f577c87552",
   "outputs": [
    {
     "name": "stdout",
     "output_type": "stream",
     "text": [
      "[ -1   1   8 -27]\n"
     ]
    }
   ],
   "execution_count": 8
  },
  {
   "metadata": {
    "ExecuteTime": {
     "end_time": "2025-08-02T15:06:08.844409Z",
     "start_time": "2025-08-02T15:06:08.841871Z"
    }
   },
   "cell_type": "code",
   "source": [
    "# 四舍五入\n",
    "print(np.round([3.2, 4.5, 8.1, 9.6]))"
   ],
   "id": "909566c361910b44",
   "outputs": [
    {
     "name": "stdout",
     "output_type": "stream",
     "text": [
      "[ 3.  4.  8. 10.]\n"
     ]
    }
   ],
   "execution_count": 9
  },
  {
   "metadata": {
    "ExecuteTime": {
     "end_time": "2025-08-02T15:06:10.700469Z",
     "start_time": "2025-08-02T15:06:10.697430Z"
    }
   },
   "cell_type": "code",
   "source": [
    "# 向上取整，向下取整\n",
    "arr = np.array([1.6, 25.1, 81.7])\n",
    "print(np.ceil(arr))\n",
    "print(np.floor(arr))"
   ],
   "id": "eb21b7517fa25c4",
   "outputs": [
    {
     "name": "stdout",
     "output_type": "stream",
     "text": [
      "[ 2. 26. 82.]\n",
      "[ 1. 25. 81.]\n"
     ]
    }
   ],
   "execution_count": 10
  },
  {
   "metadata": {
    "ExecuteTime": {
     "end_time": "2025-08-02T15:06:12.286596Z",
     "start_time": "2025-08-02T15:06:12.280801Z"
    }
   },
   "cell_type": "code",
   "source": [
    "# 检测缺失值NaN\n",
    "np.isnan([1, 2, np.nan, 3])"
   ],
   "id": "8d56a71675fb5d06",
   "outputs": [
    {
     "data": {
      "text/plain": [
       "array([False, False,  True, False])"
      ]
     },
     "execution_count": 11,
     "metadata": {},
     "output_type": "execute_result"
    }
   ],
   "execution_count": 11
  },
  {
   "metadata": {},
   "cell_type": "markdown",
   "source": [
    "## 2.统计函数\n",
    "### 求和、计算平均值、计算中位数、标准差、方差\n",
    "### 查找最大值、最小值\n",
    "### 计算分位数、累积和、累积差"
   ],
   "id": "273e9f47bd2f3da1"
  },
  {
   "metadata": {
    "ExecuteTime": {
     "end_time": "2025-08-02T15:09:14.110189Z",
     "start_time": "2025-08-02T15:09:14.092Z"
    }
   },
   "cell_type": "code",
   "source": [
    "arr = np.random.randint(1,200,8)\n",
    "print(arr)"
   ],
   "id": "8540912daa19baf8",
   "outputs": [
    {
     "name": "stdout",
     "output_type": "stream",
     "text": [
      "[108  37  12  54 125  99 188 113]\n"
     ]
    }
   ],
   "execution_count": 12
  },
  {
   "metadata": {
    "ExecuteTime": {
     "end_time": "2025-08-02T15:09:17.602543Z",
     "start_time": "2025-08-02T15:09:17.599436Z"
    }
   },
   "cell_type": "code",
   "source": [
    "# 求和\n",
    "print(np.sum([1,2,3]))"
   ],
   "id": "68a5070edf6420e8",
   "outputs": [
    {
     "name": "stdout",
     "output_type": "stream",
     "text": [
      "6\n"
     ]
    }
   ],
   "execution_count": 13
  },
  {
   "metadata": {
    "ExecuteTime": {
     "end_time": "2025-08-02T15:09:19.495658Z",
     "start_time": "2025-08-02T15:09:19.491759Z"
    }
   },
   "cell_type": "code",
   "source": [
    "# 计算平均值\n",
    "print(np.mean(arr))"
   ],
   "id": "39548c9c05410d0d",
   "outputs": [
    {
     "name": "stdout",
     "output_type": "stream",
     "text": [
      "92.0\n"
     ]
    }
   ],
   "execution_count": 14
  },
  {
   "metadata": {
    "ExecuteTime": {
     "end_time": "2025-08-02T15:09:21.893438Z",
     "start_time": "2025-08-02T15:09:21.888645Z"
    }
   },
   "cell_type": "code",
   "source": [
    "# 计算中位数\n",
    "# 奇数：排序后中间的数值\n",
    "# 偶数：中间的两个数的平均值\n",
    "print(np.median([4,1,2]))\n",
    "print(np.median([1,1,1,1,1,1,1,1,1,100]))"
   ],
   "id": "7d805f8a041bea9f",
   "outputs": [
    {
     "name": "stdout",
     "output_type": "stream",
     "text": [
      "2.0\n",
      "1.0\n"
     ]
    }
   ],
   "execution_count": 15
  },
  {
   "metadata": {
    "ExecuteTime": {
     "end_time": "2025-08-02T15:23:19.861542Z",
     "start_time": "2025-08-02T15:23:19.846572Z"
    }
   },
   "cell_type": "code",
   "source": [
    "# 计算标准差、方差\n",
    "# 1,2,3 的平均值 2\n",
    "# ((1-2)^2 + (2-2)^2 + (3-2)^2 )/ 3 = 0.666\n",
    "arr1 = np.array([1,2,1,2,1,1,1,2])\n",
    "arr2 = np.array([1,0,3,0,0,0,4,3])\n",
    "print(np.mean(arr1))\n",
    "print(np.mean(arr2))\n",
    "print(np.var(arr1))\n",
    "print(np.var(arr2))"
   ],
   "id": "2f58c0a6c6276fc1",
   "outputs": [
    {
     "name": "stdout",
     "output_type": "stream",
     "text": [
      "1.375\n",
      "1.375\n",
      "0.234375\n",
      "2.484375\n"
     ]
    }
   ],
   "execution_count": 18
  },
  {
   "metadata": {
    "ExecuteTime": {
     "end_time": "2025-08-02T15:23:21.637411Z",
     "start_time": "2025-08-02T15:23:21.634305Z"
    }
   },
   "cell_type": "code",
   "source": [
    "# 计算最大值、最小值\n",
    "print(arr)\n",
    "print(np.max(arr), np.argmax(arr))\n",
    "print(np.min(arr), np.argmin(arr))"
   ],
   "id": "3a5ea7e65d585934",
   "outputs": [
    {
     "name": "stdout",
     "output_type": "stream",
     "text": [
      "[108  37  12  54 125  99 188 113]\n",
      "188 6\n",
      "12 2\n"
     ]
    }
   ],
   "execution_count": 19
  },
  {
   "metadata": {
    "ExecuteTime": {
     "end_time": "2025-08-02T15:23:28.460040Z",
     "start_time": "2025-08-02T15:23:28.454065Z"
    }
   },
   "cell_type": "code",
   "source": [
    "# 分位数\n",
    "# 中位数\n",
    "# __________________\n",
    "# 1     2    3     4\n",
    "# 1       2        3\n",
    "print(np.median([1,2,3]))\n",
    "print(np.median([1,2,3,4]))\n",
    "np.random.seed(0)\n",
    "arr = np.random.randint(0,100,4)\n",
    "print(arr)\n",
    "# __________________\n",
    "# 44   47   64   67\n",
    "# (47+64)/2\n",
    "print(np.median(arr))\n",
    "print(np.percentile(arr,80))\n",
    "# 0.25*3=0.75\n",
    "# (47-44)*0.75=2.25 + 44 = 46.25\n",
    "# 3*0.8 = 2.4\n",
    "# (67-64)*0.4 = 1.2 + 64 = 65.2"
   ],
   "id": "3b6a8b744bb58cd8",
   "outputs": [
    {
     "name": "stdout",
     "output_type": "stream",
     "text": [
      "2.0\n",
      "2.5\n",
      "[44 47 64 67]\n",
      "55.5\n",
      "65.2\n"
     ]
    }
   ],
   "execution_count": 20
  },
  {
   "metadata": {
    "ExecuteTime": {
     "end_time": "2025-08-02T15:29:25.609866Z",
     "start_time": "2025-08-02T15:29:25.604038Z"
    }
   },
   "cell_type": "code",
   "source": [
    "# 累积和、累积积\n",
    "arr = np.array([1,2,3])\n",
    "print(np.sum(arr))\n",
    "print(np.cumsum(arr))\n",
    "print(np.cumprod(arr))"
   ],
   "id": "9e74f3683401778a",
   "outputs": [
    {
     "name": "stdout",
     "output_type": "stream",
     "text": [
      "6\n",
      "[1 3 6]\n",
      "[1 2 6]\n"
     ]
    }
   ],
   "execution_count": 21
  },
  {
   "metadata": {},
   "cell_type": "code",
   "source": [
    "# 创建嵌套JSON结构的数据\n",
    "import numpy as np\n",
    "products = {\n",
    "    \"products\": [\n",
    "        {\n",
    "            \"id\": f\"P{i}\",\n",
    "            \"name\": f\"Product {i}\",\n",
    "            \"category\": np.random.choice([\"Electronics\", \"Clothing\", \"Home\", \"Food\"]),\n",
    "            \"price\": round(np.random.uniform(5, 200), 2),\n",
    "            \"in_stock\": np.random.choice([True, False]),\n",
    "            \"specs\": {\n",
    "                \"weight\": round(np.random.uniform(0.1, 5), 2),\n",
    "                \"dimensions\": {\n",
    "                    \"length\": np.random.randint(5, 50),\n",
    "                    \"width\": np.random.randint(5, 30),\n",
    "                    \"height\": np.random.randint(5, 20)\n",
    "                }\n",
    "            }\n",
    "        } for i in range(1, 21)\n",
    "    ]\n",
    "}\n",
    "\n",
    "# 保存为JSON\n",
    "import json\n",
    "with open('data/products.json', 'w') as f:\n",
    "    json.dump(products, f, indent=2)"
   ],
   "id": "e8ea8fafcc484fde",
   "outputs": [],
   "execution_count": null
  },
  {
   "metadata": {},
   "cell_type": "code",
   "source": [
    "import numpy as np\n",
    "import json\n",
    "import os  # 导入os模块用于操作文件系统\n",
    "\n",
    "# 生成产品数据\n",
    "products = {\n",
    "    \"products\": [\n",
    "        {\n",
    "            \"id\": f\"P{i}\",\n",
    "            \"name\": f\"Product {i}\",\n",
    "            \"category\": np.random.choice([\"Electronics\", \"Clothing\", \"Home\", \"Food\"]).item(),\n",
    "            \"price\": round(np.random.uniform(5, 200), 2),\n",
    "            \"in_stock\": np.random.choice([True, False]).item(),\n",
    "            \"specs\": {\n",
    "                \"weight\": round(np.random.uniform(0.1, 5), 2),\n",
    "                \"dimensions\": {\n",
    "                    \"length\": np.random.randint(5, 50).item(),\n",
    "                    \"width\": np.random.randint(5, 30).item(),\n",
    "                    \"height\": np.random.randint(5, 20).item()\n",
    "                }\n",
    "            }\n",
    "        } for i in range(1, 21)\n",
    "    ]\n",
    "}\n",
    "\n",
    "# 确保data文件夹存在\n",
    "os.makedirs('data', exist_ok=True)  # exist_ok=True表示如果文件夹已存在，不会报错\n",
    "\n",
    "# 保存为JSON\n",
    "with open('data/products.json', 'w') as f:\n",
    "    json.dump(products, f, indent=2)"
   ],
   "id": "2b6c793ee8602603",
   "outputs": [],
   "execution_count": null
  }
 ],
 "metadata": {
  "kernelspec": {
   "display_name": "Python [conda env:base] *",
   "language": "python",
   "name": "conda-base-py"
  },
  "language_info": {
   "codemirror_mode": {
    "name": "ipython",
    "version": 2
   },
   "file_extension": ".py",
   "mimetype": "text/x-python",
   "name": "python",
   "nbconvert_exporter": "python",
   "pygments_lexer": "ipython2",
   "version": "2.7.6"
  }
 },
 "nbformat": 4,
 "nbformat_minor": 5
}
