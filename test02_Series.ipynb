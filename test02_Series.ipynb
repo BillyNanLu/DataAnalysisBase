{
 "cells": [
  {
   "metadata": {},
   "cell_type": "markdown",
   "source": "# 3.1 Pandas之Series",
   "id": "f8cf5f59600fb5d8"
  },
  {
   "metadata": {},
   "cell_type": "markdown",
   "source": "## 1. Series的创建",
   "id": "131f9b4dfa47a7a5"
  },
  {
   "metadata": {
    "ExecuteTime": {
     "end_time": "2025-08-05T05:55:15.498975Z",
     "start_time": "2025-08-05T05:55:14.635711Z"
    }
   },
   "cell_type": "code",
   "source": "import pandas as pd",
   "id": "1925b444f997b828",
   "outputs": [],
   "execution_count": 1
  },
  {
   "metadata": {
    "ExecuteTime": {
     "end_time": "2025-08-05T05:57:07.777291Z",
     "start_time": "2025-08-05T05:57:07.771518Z"
    }
   },
   "cell_type": "code",
   "source": [
    "s = pd.Series([10, 2, 3, 4, 5])\n",
    "s = pd.Series([10, 2, 3, 4, 5], index = ['A', 'B', 'C', 'D', 'E'])\n",
    "# s = pd.Series([10, 2, 3, 4, 5], index = [1, 2, 3, 4, 5])\n",
    "s = pd.Series([10, 2, 3, 4, 5], index = ['A', 'B', 'C', 'D', 'E'], name='月份')\n",
    "print(s)"
   ],
   "id": "fd6a314d057b210d",
   "outputs": [
    {
     "name": "stdout",
     "output_type": "stream",
     "text": [
      "A    10\n",
      "B     2\n",
      "C     3\n",
      "D     4\n",
      "E     5\n",
      "Name: 月份, dtype: int64\n"
     ]
    }
   ],
   "execution_count": 3
  },
  {
   "metadata": {
    "ExecuteTime": {
     "end_time": "2025-08-05T05:58:50.679120Z",
     "start_time": "2025-08-05T05:58:50.669628Z"
    }
   },
   "cell_type": "code",
   "source": [
    "# 通过字典来创建\n",
    "s = pd.Series({\"a\":1, \"b\":2, \"c\":3, \"d\":4, \"e\":5})\n",
    "print(s)\n",
    "\n",
    "print('-' * 20)\n",
    "\n",
    "s2 = pd.Series([10,2,3,4,5], index = ['A', 'B', 'C', 'D', 'E'], name='月份')\n",
    "s1 = pd.Series(s2, index = ['A', 'B'])\n",
    "print(s1)"
   ],
   "id": "3d35d62934192014",
   "outputs": [
    {
     "name": "stdout",
     "output_type": "stream",
     "text": [
      "a    1\n",
      "b    2\n",
      "c    3\n",
      "d    4\n",
      "e    5\n",
      "dtype: int64\n",
      "--------------------\n",
      "A    10\n",
      "B     2\n",
      "Name: 月份, dtype: int64\n"
     ]
    }
   ],
   "execution_count": 6
  },
  {
   "metadata": {},
   "cell_type": "markdown",
   "source": "## 2. Series的属性",
   "id": "4e1d74f2f1f10f6a"
  },
  {
   "metadata": {
    "ExecuteTime": {
     "end_time": "2025-08-05T06:01:57.590578Z",
     "start_time": "2025-08-05T06:01:57.586477Z"
    }
   },
   "cell_type": "code",
   "source": [
    "'''\n",
    "index:Series的索引对象\n",
    "values:Series的值\n",
    "dtype或dtypes\"Series的元素类型\n",
    "shape:Series的形状\n",
    "ndim:Series的维度\n",
    "size:Series的元素个数\n",
    "name:Series的名称\n",
    "loc[]  显式索引，按标签索引或切片\n",
    "iloc[]  隐式索引，按位置索引或切片\n",
    "at[]  使用标签访问单个元素\n",
    "iat[]  使用位置访问单个元素\n",
    "'''\n",
    "# print(s.index)\n",
    "# print(s.values)\n",
    "# print(s.shape, s.ndim, s.size)\n",
    "# s.name = 'test'\n",
    "# print(s.dtype, s.name)\n",
    "print(s.loc['a'])\n",
    "print(s.iloc[0])\n",
    "print(s.at['a'])\n",
    "print(s.iat[0])"
   ],
   "id": "108fc55c2037eccc",
   "outputs": [
    {
     "name": "stdout",
     "output_type": "stream",
     "text": [
      "1\n",
      "1\n",
      "1\n",
      "1\n"
     ]
    }
   ],
   "execution_count": 11
  },
  {
   "metadata": {
    "ExecuteTime": {
     "end_time": "2025-08-05T06:03:42.123599Z",
     "start_time": "2025-08-05T06:03:42.118041Z"
    }
   },
   "cell_type": "code",
   "source": [
    "# 访问数据\n",
    "# print(s[1])\n",
    "# print(s['c'])\n",
    "# print(s)\n",
    "# print(s[s<3])\n",
    "s['f'] = 6\n",
    "print(s.head(2))\n",
    "print(s.tail(1))"
   ],
   "id": "fff7c79a3d282fc7",
   "outputs": [
    {
     "name": "stdout",
     "output_type": "stream",
     "text": [
      "a    1\n",
      "b    2\n",
      "Name: test, dtype: int64\n",
      "f    6\n",
      "Name: test, dtype: int64\n"
     ]
    }
   ],
   "execution_count": 14
  },
  {
   "metadata": {},
   "cell_type": "markdown",
   "source": "## 3. Series的常见函数",
   "id": "29226380c1d104d8"
  },
  {
   "metadata": {
    "ExecuteTime": {
     "end_time": "2025-08-05T06:04:16.089285Z",
     "start_time": "2025-08-05T06:04:16.086692Z"
    }
   },
   "cell_type": "code",
   "source": "import numpy as np",
   "id": "35893e065529e10d",
   "outputs": [],
   "execution_count": 15
  },
  {
   "metadata": {
    "ExecuteTime": {
     "end_time": "2025-08-05T06:05:30.385292Z",
     "start_time": "2025-08-05T06:05:30.378286Z"
    }
   },
   "cell_type": "code",
   "source": [
    "s = pd.Series([10, 2, np.nan, None, 3, 4, 5],\n",
    "              index = ['A', 'B', 'C', 'D', 'E', 'F', 'G'],\n",
    "              name = 'data')\n",
    "print(s)"
   ],
   "id": "33e71ccb892b448",
   "outputs": [
    {
     "name": "stdout",
     "output_type": "stream",
     "text": [
      "A    10.0\n",
      "B     2.0\n",
      "C     NaN\n",
      "D     NaN\n",
      "E     3.0\n",
      "F     4.0\n",
      "G     5.0\n",
      "Name: data, dtype: float64\n"
     ]
    }
   ],
   "execution_count": 16
  },
  {
   "metadata": {
    "ExecuteTime": {
     "end_time": "2025-08-05T06:05:51.943606Z",
     "start_time": "2025-08-05T06:05:51.936390Z"
    }
   },
   "cell_type": "code",
   "source": [
    "s.head(3)\n",
    "s.tail(2)"
   ],
   "id": "d7528897465525aa",
   "outputs": [
    {
     "data": {
      "text/plain": [
       "F    4.0\n",
       "G    5.0\n",
       "Name: data, dtype: float64"
      ]
     },
     "execution_count": 17,
     "metadata": {},
     "output_type": "execute_result"
    }
   ],
   "execution_count": 17
  },
  {
   "metadata": {
    "ExecuteTime": {
     "end_time": "2025-08-05T06:06:13.418805Z",
     "start_time": "2025-08-05T06:06:13.407079Z"
    }
   },
   "cell_type": "code",
   "source": [
    "# 查看所有的描述信息\n",
    "s.describe()"
   ],
   "id": "5e9ac32d90888177",
   "outputs": [
    {
     "data": {
      "text/plain": [
       "count     5.000000\n",
       "mean      4.800000\n",
       "std       3.114482\n",
       "min       2.000000\n",
       "25%       3.000000\n",
       "50%       4.000000\n",
       "75%       5.000000\n",
       "max      10.000000\n",
       "Name: data, dtype: float64"
      ]
     },
     "execution_count": 18,
     "metadata": {},
     "output_type": "execute_result"
    }
   ],
   "execution_count": 18
  },
  {
   "metadata": {
    "ExecuteTime": {
     "end_time": "2025-08-05T06:06:46.027172Z",
     "start_time": "2025-08-05T06:06:46.023674Z"
    }
   },
   "cell_type": "code",
   "source": [
    "# 获取元素个数（忽略缺失值）\n",
    "print(s.count())"
   ],
   "id": "179709dde83311f7",
   "outputs": [
    {
     "name": "stdout",
     "output_type": "stream",
     "text": [
      "5\n"
     ]
    }
   ],
   "execution_count": 19
  },
  {
   "metadata": {
    "ExecuteTime": {
     "end_time": "2025-08-05T06:07:03.125925Z",
     "start_time": "2025-08-05T06:07:03.123195Z"
    }
   },
   "cell_type": "code",
   "source": [
    "# 获取索引\n",
    "print(s.keys())\n",
    "print(s.index)"
   ],
   "id": "3a3fadde4548d43",
   "outputs": [
    {
     "name": "stdout",
     "output_type": "stream",
     "text": [
      "Index(['A', 'B', 'C', 'D', 'E', 'F', 'G'], dtype='object')\n",
      "Index(['A', 'B', 'C', 'D', 'E', 'F', 'G'], dtype='object')\n"
     ]
    }
   ],
   "execution_count": 20
  },
  {
   "metadata": {
    "ExecuteTime": {
     "end_time": "2025-08-05T06:07:42.137102Z",
     "start_time": "2025-08-05T06:07:42.130456Z"
    }
   },
   "cell_type": "code",
   "source": [
    "# 检查每一个元素是否为确实值\n",
    "print(s.isna())\n",
    "s.isna()"
   ],
   "id": "d139581853704d3a",
   "outputs": [
    {
     "name": "stdout",
     "output_type": "stream",
     "text": [
      "A    False\n",
      "B    False\n",
      "C     True\n",
      "D     True\n",
      "E    False\n",
      "F    False\n",
      "G    False\n",
      "Name: data, dtype: bool\n"
     ]
    },
    {
     "data": {
      "text/plain": [
       "A    False\n",
       "B    False\n",
       "C     True\n",
       "D     True\n",
       "E    False\n",
       "F    False\n",
       "G    False\n",
       "Name: data, dtype: bool"
      ]
     },
     "execution_count": 23,
     "metadata": {},
     "output_type": "execute_result"
    }
   ],
   "execution_count": 23
  },
  {
   "metadata": {
    "ExecuteTime": {
     "end_time": "2025-08-05T06:09:30.637085Z",
     "start_time": "2025-08-05T06:09:30.630394Z"
    }
   },
   "cell_type": "code",
   "source": [
    "# 检查每个元素是否在参数集合中\n",
    "s.isin([4, 5, 6])"
   ],
   "id": "5b123a38ad2f8f41",
   "outputs": [
    {
     "data": {
      "text/plain": [
       "A    False\n",
       "B    False\n",
       "C    False\n",
       "D    False\n",
       "E    False\n",
       "F     True\n",
       "G     True\n",
       "Name: data, dtype: bool"
      ]
     },
     "execution_count": 24,
     "metadata": {},
     "output_type": "execute_result"
    }
   ],
   "execution_count": 24
  },
  {
   "metadata": {
    "ExecuteTime": {
     "end_time": "2025-08-05T06:09:37.617774Z",
     "start_time": "2025-08-05T06:09:37.609723Z"
    }
   },
   "cell_type": "code",
   "source": "s.describe()",
   "id": "82dca21087e29c04",
   "outputs": [
    {
     "data": {
      "text/plain": [
       "count     5.000000\n",
       "mean      4.800000\n",
       "std       3.114482\n",
       "min       2.000000\n",
       "25%       3.000000\n",
       "50%       4.000000\n",
       "75%       5.000000\n",
       "max      10.000000\n",
       "Name: data, dtype: float64"
      ]
     },
     "execution_count": 25,
     "metadata": {},
     "output_type": "execute_result"
    }
   ],
   "execution_count": 25
  },
  {
   "metadata": {
    "ExecuteTime": {
     "end_time": "2025-08-05T06:11:35.143375Z",
     "start_time": "2025-08-05T06:11:35.138074Z"
    }
   },
   "cell_type": "code",
   "source": [
    "print(s.mean())\n",
    "print(s.sum())      # 总和\n",
    "print(s.std())      # 标准差\n",
    "print(s.var())      # 方差\n",
    "print(s.min())\n",
    "print(s.max())\n",
    "print(s.median())   # 中位数"
   ],
   "id": "b9086db9c5b1ffdf",
   "outputs": [
    {
     "name": "stdout",
     "output_type": "stream",
     "text": [
      "4.8\n",
      "24.0\n",
      "3.1144823004794877\n",
      "9.700000000000001\n",
      "2.0\n",
      "10.0\n",
      "4.0\n"
     ]
    }
   ],
   "execution_count": 26
  },
  {
   "metadata": {
    "ExecuteTime": {
     "end_time": "2025-08-05T06:14:51.936797Z",
     "start_time": "2025-08-05T06:14:51.930057Z"
    }
   },
   "cell_type": "code",
   "source": [
    "# print(s.sort_values())\n",
    "# 分位数\n",
    "print(s.quantile(0.8))\n",
    "# ----------\n",
    "# 2     3      4     5    10\n",
    "# 位置 4 * 0.8 = 3.2\n",
    "# 值的计算 5 + (10-5) * 0.2 = 6"
   ],
   "id": "29fbdf00393bba26",
   "outputs": [
    {
     "name": "stdout",
     "output_type": "stream",
     "text": [
      "6.000000000000001\n"
     ]
    }
   ],
   "execution_count": 28
  },
  {
   "metadata": {
    "ExecuteTime": {
     "end_time": "2025-08-05T06:15:37.787070Z",
     "start_time": "2025-08-05T06:15:37.783285Z"
    }
   },
   "cell_type": "code",
   "source": [
    "# 众数\n",
    "s['H'] = 4\n",
    "print(s.mode())\n",
    "s.mode()"
   ],
   "id": "b7a565621ff64003",
   "outputs": [
    {
     "name": "stdout",
     "output_type": "stream",
     "text": [
      "0    4.0\n",
      "Name: data, dtype: float64\n"
     ]
    },
    {
     "data": {
      "text/plain": [
       "0    4.0\n",
       "Name: data, dtype: float64"
      ]
     },
     "execution_count": 30,
     "metadata": {},
     "output_type": "execute_result"
    }
   ],
   "execution_count": 30
  },
  {
   "metadata": {
    "ExecuteTime": {
     "end_time": "2025-08-05T06:16:18.847558Z",
     "start_time": "2025-08-05T06:16:18.841658Z"
    }
   },
   "cell_type": "code",
   "source": [
    "# 每个元素的计算\n",
    "print(s.value_counts())"
   ],
   "id": "4884ce5796448f3b",
   "outputs": [
    {
     "name": "stdout",
     "output_type": "stream",
     "text": [
      "data\n",
      "4.0     2\n",
      "10.0    1\n",
      "2.0     1\n",
      "3.0     1\n",
      "5.0     1\n",
      "Name: count, dtype: int64\n"
     ]
    }
   ],
   "execution_count": 31
  },
  {
   "metadata": {
    "ExecuteTime": {
     "end_time": "2025-08-05T06:17:18.010251Z",
     "start_time": "2025-08-05T06:17:18.005583Z"
    }
   },
   "cell_type": "code",
   "source": [
    "# 去重\n",
    "s.drop_duplicates()\n",
    "s.unique()\n",
    "print(s.nunique())  # 去重后的元素个数"
   ],
   "id": "7c688d35847e752a",
   "outputs": [
    {
     "name": "stdout",
     "output_type": "stream",
     "text": [
      "5\n"
     ]
    }
   ],
   "execution_count": 32
  },
  {
   "metadata": {
    "ExecuteTime": {
     "end_time": "2025-08-05T06:18:12.098527Z",
     "start_time": "2025-08-05T06:18:12.093227Z"
    }
   },
   "cell_type": "code",
   "source": [
    "# 排序    值、索引\n",
    "s.sort_index() # 按索引排序\n",
    "s.sort_values() # 按值排序"
   ],
   "id": "63f5f8696a2b27b8",
   "outputs": [
    {
     "data": {
      "text/plain": [
       "B     2.0\n",
       "E     3.0\n",
       "F     4.0\n",
       "H     4.0\n",
       "G     5.0\n",
       "A    10.0\n",
       "C     NaN\n",
       "D     NaN\n",
       "Name: data, dtype: float64"
      ]
     },
     "execution_count": 33,
     "metadata": {},
     "output_type": "execute_result"
    }
   ],
   "execution_count": 33
  },
  {
   "metadata": {},
   "cell_type": "markdown",
   "source": "# 3.2 Series案例分析",
   "id": "a85c2003e5a9db45"
  },
  {
   "metadata": {},
   "cell_type": "markdown",
   "source": "## 1. 学生成绩统计",
   "id": "3534d1c60109bd6b"
  },
  {
   "metadata": {
    "ExecuteTime": {
     "end_time": "2025-08-05T06:27:13.874266Z",
     "start_time": "2025-08-05T06:27:13.867644Z"
    }
   },
   "cell_type": "code",
   "source": [
    "'''\n",
    "创建一个包含10名学生数学成绩的Series，成绩范围在50-100之间。\n",
    "计算平均分、最高分、最低分，并找出高于平均分的学生人数。\n",
    "'''\n",
    "\n",
    "import pandas as pd\n",
    "import numpy as np\n",
    "\n",
    "np.random.seed(42)\n",
    "values = np.random.randint(50, 101, 10)\n",
    "indexes = []\n",
    "for i in range(1, 11):\n",
    "    indexes.append('学生' + str(i))\n",
    "scores = pd.Series(values, index=indexes, name='scores')\n",
    "# scores\n",
    "\n",
    "# ----------------------\n",
    "print('平均分：', scores.mean())\n",
    "print('最高分：', scores.max())\n",
    "print('最低分：', scores.min())\n",
    "# -----------------------\n",
    "mean = scores.mean()\n",
    "print('高于平均分的学生人数：', len(scores[scores > mean]))\n",
    "print('高于平均分的学生人数：', scores[scores > mean].count())"
   ],
   "id": "58ee535b1e07eb27",
   "outputs": [
    {
     "name": "stdout",
     "output_type": "stream",
     "text": [
      "平均分： 73.7\n",
      "最高分： 92\n",
      "最低分： 57\n",
      "高于平均分的学生人数： 4\n",
      "高于平均分的学生人数： 4\n"
     ]
    }
   ],
   "execution_count": 42
  },
  {
   "metadata": {},
   "cell_type": "markdown",
   "source": "## 2. 温度数据分析",
   "id": "f597d68b49f1281c"
  },
  {
   "metadata": {
    "ExecuteTime": {
     "end_time": "2025-08-05T06:29:49.779306Z",
     "start_time": "2025-08-05T06:29:49.775582Z"
    }
   },
   "cell_type": "code",
   "source": [
    "'''\n",
    "温度数据统计\n",
    "给定某城市一周每天的最高温度Series，完成以下任务：\n",
    "找出温度超过30度的天数\n",
    "计算平均温度\n",
    "将温度从高到低排序\n",
    "找出温度变化最大的两天\n",
    "'''\n",
    "\n",
    "import pandas as pd\n",
    "import numpy as np\n",
    "\n",
    "temperatures = pd.Series([28, 31, 29, 32, 30, 27, 33],\n",
    "                         index = ['周一', '周二', '周三', '周四', '周五', '周六', '周日'])\n",
    "temperatures"
   ],
   "id": "129c5bf05f697366",
   "outputs": [
    {
     "data": {
      "text/plain": [
       "周一    28\n",
       "周二    31\n",
       "周三    29\n",
       "周四    32\n",
       "周五    30\n",
       "周六    27\n",
       "周日    33\n",
       "dtype: int64"
      ]
     },
     "execution_count": 45,
     "metadata": {},
     "output_type": "execute_result"
    }
   ],
   "execution_count": 45
  },
  {
   "metadata": {
    "ExecuteTime": {
     "end_time": "2025-08-05T06:30:50.679029Z",
     "start_time": "2025-08-05T06:30:50.675116Z"
    }
   },
   "cell_type": "code",
   "source": [
    "# 找出温度超过30度的天数\n",
    "print('超过30度的天数：', temperatures[temperatures>30].count())"
   ],
   "id": "c07a3a4ecded3e08",
   "outputs": [
    {
     "name": "stdout",
     "output_type": "stream",
     "text": [
      "超过30度的天数： 3\n"
     ]
    }
   ],
   "execution_count": 46
  },
  {
   "metadata": {
    "ExecuteTime": {
     "end_time": "2025-08-05T06:31:23.375545Z",
     "start_time": "2025-08-05T06:31:23.371855Z"
    }
   },
   "cell_type": "code",
   "source": [
    "# 计算平均温度\n",
    "print('平均温度：', temperatures.mean())"
   ],
   "id": "5d161493950799ee",
   "outputs": [
    {
     "name": "stdout",
     "output_type": "stream",
     "text": [
      "平均温度： 30.0\n"
     ]
    }
   ],
   "execution_count": 47
  },
  {
   "metadata": {
    "ExecuteTime": {
     "end_time": "2025-08-05T06:32:03.859211Z",
     "start_time": "2025-08-05T06:32:03.855301Z"
    }
   },
   "cell_type": "code",
   "source": [
    "# 将温度从到高到低排序\n",
    "temperatures.sort_values(ascending=False)"
   ],
   "id": "2e362b0dcb91594a",
   "outputs": [
    {
     "data": {
      "text/plain": [
       "周日    33\n",
       "周四    32\n",
       "周二    31\n",
       "周五    30\n",
       "周三    29\n",
       "周一    28\n",
       "周六    27\n",
       "dtype: int64"
      ]
     },
     "execution_count": 48,
     "metadata": {},
     "output_type": "execute_result"
    }
   ],
   "execution_count": 48
  },
  {
   "metadata": {
    "ExecuteTime": {
     "end_time": "2025-08-05T06:37:51.689397Z",
     "start_time": "2025-08-05T06:37:51.685368Z"
    }
   },
   "cell_type": "code",
   "source": [
    "# 找出温度变化最大的两天\n",
    "change = temperatures.diff().abs()   # 计算series的变化值\n",
    "\n",
    "print('温度变化最大的两天：',*(change.sort_values(ascending=False).keys()[:2].tolist()))"
   ],
   "id": "bf3e990a3eea37ea",
   "outputs": [
    {
     "name": "stdout",
     "output_type": "stream",
     "text": [
      "温度变化最大的两天： 周日 周二\n"
     ]
    }
   ],
   "execution_count": 57
  },
  {
   "metadata": {},
   "cell_type": "markdown",
   "source": "## 3. 股票价格分析",
   "id": "25f634c0cec7011"
  },
  {
   "metadata": {
    "ExecuteTime": {
     "end_time": "2025-08-05T06:42:31.940234Z",
     "start_time": "2025-08-05T06:42:31.927413Z"
    }
   },
   "cell_type": "code",
   "source": [
    "'''\n",
    "股票价格分析\n",
    "给定某股票连续10个交易日的收盘价Series：\n",
    "计算每日收益率（当日收盘价/前日收盘价 - 1）\n",
    "找出收益率最高和最低的日期\n",
    "计算波动率（收益率的标准差）\n",
    "'''\n",
    "\n",
    "import pandas as pd\n",
    "import numpy as np\n",
    "\n",
    "prices = pd.Series([102.3, 103.5, 105.1, 104.8, 106.2, 107.0, 106.5, 108.1, 109.3, 110.2], index=pd.date_range('2023-01-01', periods=10))\n",
    "prices"
   ],
   "id": "82ffd75eed81340f",
   "outputs": [
    {
     "data": {
      "text/plain": [
       "2023-01-01    102.3\n",
       "2023-01-02    103.5\n",
       "2023-01-03    105.1\n",
       "2023-01-04    104.8\n",
       "2023-01-05    106.2\n",
       "2023-01-06    107.0\n",
       "2023-01-07    106.5\n",
       "2023-01-08    108.1\n",
       "2023-01-09    109.3\n",
       "2023-01-10    110.2\n",
       "Freq: D, dtype: float64"
      ]
     },
     "execution_count": 59,
     "metadata": {},
     "output_type": "execute_result"
    }
   ],
   "execution_count": 59
  },
  {
   "metadata": {
    "ExecuteTime": {
     "end_time": "2025-08-05T06:43:07.141028Z",
     "start_time": "2025-08-05T06:43:07.135596Z"
    }
   },
   "cell_type": "code",
   "source": [
    "# 计算每日收益率（当日收盘价/前日收盘价 - 1）\n",
    "prices.pct_change()"
   ],
   "id": "7c7752eab3f63192",
   "outputs": [
    {
     "data": {
      "text/plain": [
       "2023-01-01         NaN\n",
       "2023-01-02    0.011730\n",
       "2023-01-03    0.015459\n",
       "2023-01-04   -0.002854\n",
       "2023-01-05    0.013359\n",
       "2023-01-06    0.007533\n",
       "2023-01-07   -0.004673\n",
       "2023-01-08    0.015023\n",
       "2023-01-09    0.011101\n",
       "2023-01-10    0.008234\n",
       "Freq: D, dtype: float64"
      ]
     },
     "execution_count": 60,
     "metadata": {},
     "output_type": "execute_result"
    }
   ],
   "execution_count": 60
  },
  {
   "metadata": {
    "ExecuteTime": {
     "end_time": "2025-08-05T06:44:55.866487Z",
     "start_time": "2025-08-05T06:44:55.863010Z"
    }
   },
   "cell_type": "code",
   "source": [
    "# 收益最高和最低的日期\n",
    "print(f'收益最高的日期：{prices.pct_change().idxmax()}')\n",
    "print(f'收益最低的日期：{prices.pct_change().idxmin()}')"
   ],
   "id": "d47b34e1461463c3",
   "outputs": [
    {
     "name": "stdout",
     "output_type": "stream",
     "text": [
      "收益最高的日期：2023-01-03 00:00:00\n",
      "收益最低的日期：2023-01-07 00:00:00\n"
     ]
    }
   ],
   "execution_count": 62
  },
  {
   "metadata": {
    "ExecuteTime": {
     "end_time": "2025-08-05T06:45:46.167138Z",
     "start_time": "2025-08-05T06:45:46.162420Z"
    }
   },
   "cell_type": "code",
   "source": [
    "# 波动率（收益率的标准差）\n",
    "prices.pct_change().std()\n",
    "print(f'波动率：{prices.pct_change().std()}')"
   ],
   "id": "7690309dccc27a1a",
   "outputs": [
    {
     "name": "stdout",
     "output_type": "stream",
     "text": [
      "波动率：0.007373623845361105\n"
     ]
    }
   ],
   "execution_count": 63
  },
  {
   "metadata": {},
   "cell_type": "markdown",
   "source": "## 4. 销售数据分析",
   "id": "632bdb553e0d6aac"
  },
  {
   "metadata": {
    "ExecuteTime": {
     "end_time": "2025-08-05T06:51:11.811321Z",
     "start_time": "2025-08-05T06:51:11.798916Z"
    }
   },
   "cell_type": "code",
   "source": [
    "'''\n",
    "销售数据分析\n",
    "某产品过去12个月的销售量Series：\n",
    "计算季度平均销量（每3个月为一个季度）\n",
    "找出销量最高的月份\n",
    "计算月环比增长率\n",
    "找出连续增长超过2个月的月份\n",
    "'''\n",
    "\n",
    "import pandas as pd\n",
    "import numpy as np\n",
    "\n",
    "sales = pd.Series([120, 135, 145, 160, 155, 170, 180, 175, 190, 200, 210, 220],index=pd.date_range('2022-01-01', periods=12, freq='MS'))\n",
    "sales"
   ],
   "id": "41b7552895b4a3e8",
   "outputs": [
    {
     "data": {
      "text/plain": [
       "2022-01-01    120\n",
       "2022-02-01    135\n",
       "2022-03-01    145\n",
       "2022-04-01    160\n",
       "2022-05-01    155\n",
       "2022-06-01    170\n",
       "2022-07-01    180\n",
       "2022-08-01    175\n",
       "2022-09-01    190\n",
       "2022-10-01    200\n",
       "2022-11-01    210\n",
       "2022-12-01    220\n",
       "Freq: MS, dtype: int64"
      ]
     },
     "execution_count": 65,
     "metadata": {},
     "output_type": "execute_result"
    }
   ],
   "execution_count": 65
  },
  {
   "metadata": {
    "ExecuteTime": {
     "end_time": "2025-08-05T06:51:52.556172Z",
     "start_time": "2025-08-05T06:51:52.543397Z"
    }
   },
   "cell_type": "code",
   "source": [
    "# 季度平均销量（每3个月为一个季度）\n",
    "sales.resample('QS').mean()"
   ],
   "id": "f20671985da4ee9d",
   "outputs": [
    {
     "data": {
      "text/plain": [
       "2022-01-01    133.333333\n",
       "2022-04-01    161.666667\n",
       "2022-07-01    181.666667\n",
       "2022-10-01    210.000000\n",
       "Freq: QS-JAN, dtype: float64"
      ]
     },
     "execution_count": 66,
     "metadata": {},
     "output_type": "execute_result"
    }
   ],
   "execution_count": 66
  },
  {
   "metadata": {
    "ExecuteTime": {
     "end_time": "2025-08-05T06:56:26.088663Z",
     "start_time": "2025-08-05T06:56:26.083845Z"
    }
   },
   "cell_type": "code",
   "source": [
    "# 销量最高的月份\n",
    "sales.idxmax()"
   ],
   "id": "f60cab01e0b9d726",
   "outputs": [
    {
     "data": {
      "text/plain": [
       "Timestamp('2022-12-01 00:00:00')"
      ]
     },
     "execution_count": 67,
     "metadata": {},
     "output_type": "execute_result"
    }
   ],
   "execution_count": 67
  },
  {
   "metadata": {
    "ExecuteTime": {
     "end_time": "2025-08-05T06:57:11.266692Z",
     "start_time": "2025-08-05T06:57:11.259674Z"
    }
   },
   "cell_type": "code",
   "source": [
    "# 月环比增长率\n",
    "sales.pct_change()"
   ],
   "id": "51e1b512c7516eb3",
   "outputs": [
    {
     "data": {
      "text/plain": [
       "2022-01-01         NaN\n",
       "2022-02-01    0.125000\n",
       "2022-03-01    0.074074\n",
       "2022-04-01    0.103448\n",
       "2022-05-01   -0.031250\n",
       "2022-06-01    0.096774\n",
       "2022-07-01    0.058824\n",
       "2022-08-01   -0.027778\n",
       "2022-09-01    0.085714\n",
       "2022-10-01    0.052632\n",
       "2022-11-01    0.050000\n",
       "2022-12-01    0.047619\n",
       "Freq: MS, dtype: float64"
      ]
     },
     "execution_count": 68,
     "metadata": {},
     "output_type": "execute_result"
    }
   ],
   "execution_count": 68
  },
  {
   "metadata": {
    "ExecuteTime": {
     "end_time": "2025-08-05T06:59:51.147738Z",
     "start_time": "2025-08-05T06:59:51.144056Z"
    }
   },
   "cell_type": "code",
   "source": [
    "# 连续增长超过2个月的月份\n",
    "up = sales.pct_change() > 0\n",
    "up[up.rolling(3).sum() == 3].keys().tolist()"
   ],
   "id": "c54f0bc7358c5f55",
   "outputs": [
    {
     "data": {
      "text/plain": [
       "[Timestamp('2022-04-01 00:00:00'),\n",
       " Timestamp('2022-11-01 00:00:00'),\n",
       " Timestamp('2022-12-01 00:00:00')]"
      ]
     },
     "execution_count": 74,
     "metadata": {},
     "output_type": "execute_result"
    }
   ],
   "execution_count": 74
  },
  {
   "metadata": {},
   "cell_type": "markdown",
   "source": "## 5. 每小时销售数据分析",
   "id": "dc9a2afb097ca8b0"
  },
  {
   "metadata": {
    "ExecuteTime": {
     "end_time": "2025-08-05T07:11:55.086800Z",
     "start_time": "2025-08-05T07:11:55.081950Z"
    }
   },
   "cell_type": "code",
   "source": [
    "'''\n",
    "每小时销售数据分析\n",
    "某商店每小时销售额Series：\n",
    "按天重采样计算每日总销售额\n",
    "计算每天营业时间（8:00-22:00）和非营业时间的销售额比例\n",
    "找出销售额最高的3个小时\n",
    "'''\n",
    "\n",
    "import pandas as pd\n",
    "import numpy as np\n",
    "\n",
    "np.random.seed(42)\n",
    "h = pd.Series(np.random.randint(0, 100, 24),\n",
    "              index = pd.date_range('2025-08-03', periods=24, freq='h'))\n",
    "h"
   ],
   "id": "e60257193c9352ec",
   "outputs": [
    {
     "data": {
      "text/plain": [
       "2025-08-03 00:00:00    51\n",
       "2025-08-03 01:00:00    92\n",
       "2025-08-03 02:00:00    14\n",
       "2025-08-03 03:00:00    71\n",
       "2025-08-03 04:00:00    60\n",
       "2025-08-03 05:00:00    20\n",
       "2025-08-03 06:00:00    82\n",
       "2025-08-03 07:00:00    86\n",
       "2025-08-03 08:00:00    74\n",
       "2025-08-03 09:00:00    74\n",
       "2025-08-03 10:00:00    87\n",
       "2025-08-03 11:00:00    99\n",
       "2025-08-03 12:00:00    23\n",
       "2025-08-03 13:00:00     2\n",
       "2025-08-03 14:00:00    21\n",
       "2025-08-03 15:00:00    52\n",
       "2025-08-03 16:00:00     1\n",
       "2025-08-03 17:00:00    87\n",
       "2025-08-03 18:00:00    29\n",
       "2025-08-03 19:00:00    37\n",
       "2025-08-03 20:00:00     1\n",
       "2025-08-03 21:00:00    63\n",
       "2025-08-03 22:00:00    59\n",
       "2025-08-03 23:00:00    20\n",
       "Freq: h, dtype: int64"
      ]
     },
     "execution_count": 77,
     "metadata": {},
     "output_type": "execute_result"
    }
   ],
   "execution_count": 77
  },
  {
   "metadata": {
    "ExecuteTime": {
     "end_time": "2025-08-05T07:12:49.479882Z",
     "start_time": "2025-08-05T07:12:49.475248Z"
    }
   },
   "cell_type": "code",
   "source": [
    "# 按天重采样计算每日总销售额\n",
    "h.resample('D').sum()"
   ],
   "id": "afa4352f56d8aeb1",
   "outputs": [
    {
     "data": {
      "text/plain": [
       "2025-08-03    1205\n",
       "Freq: D, dtype: int64"
      ]
     },
     "execution_count": 78,
     "metadata": {},
     "output_type": "execute_result"
    }
   ],
   "execution_count": 78
  },
  {
   "metadata": {
    "ExecuteTime": {
     "end_time": "2025-08-05T07:14:53.836359Z",
     "start_time": "2025-08-05T07:14:53.830898Z"
    }
   },
   "cell_type": "code",
   "source": [
    "# 计算每天营业时间（8:00-22:00）和非营业时间的销售额比例\n",
    "mask = (h.index.hour >= 8) & (h.index.hour <= 22)\n",
    "bh = h[mask]    # 营业时间\n",
    "oh = h[~mask]   # 非营业时间\n",
    "bh.sum() / oh.sum()"
   ],
   "id": "f44ae9238687b1da",
   "outputs": [
    {
     "data": {
      "text/plain": [
       "1.4294354838709677"
      ]
     },
     "execution_count": 79,
     "metadata": {},
     "output_type": "execute_result"
    }
   ],
   "execution_count": 79
  },
  {
   "metadata": {
    "ExecuteTime": {
     "end_time": "2025-08-05T07:16:20.158304Z",
     "start_time": "2025-08-05T07:16:20.153126Z"
    }
   },
   "cell_type": "code",
   "source": [
    "# 找出销售额最高的3个小时\n",
    "h.nlargest(3).sort_index(ascending=True)"
   ],
   "id": "23007fc5c8dfc4a3",
   "outputs": [
    {
     "data": {
      "text/plain": [
       "2025-08-03 01:00:00    92\n",
       "2025-08-03 10:00:00    87\n",
       "2025-08-03 11:00:00    99\n",
       "dtype: int64"
      ]
     },
     "execution_count": 84,
     "metadata": {},
     "output_type": "execute_result"
    }
   ],
   "execution_count": 84
  }
 ],
 "metadata": {
  "kernelspec": {
   "display_name": "Python [conda env:base] *",
   "language": "python",
   "name": "conda-base-py"
  },
  "language_info": {
   "codemirror_mode": {
    "name": "ipython",
    "version": 2
   },
   "file_extension": ".py",
   "mimetype": "text/x-python",
   "name": "python",
   "nbconvert_exporter": "python",
   "pygments_lexer": "ipython2",
   "version": "2.7.6"
  }
 },
 "nbformat": 4,
 "nbformat_minor": 5
}
