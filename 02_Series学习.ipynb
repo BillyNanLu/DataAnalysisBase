{
 "cells": [
  {
   "metadata": {},
   "cell_type": "markdown",
   "source": "# 3.1 Pandas 之 Series",
   "id": "89a78bccb9bce92a"
  },
  {
   "metadata": {},
   "cell_type": "markdown",
   "source": "## 1. Series的创建",
   "id": "72f243bd9dd2604c"
  },
  {
   "cell_type": "code",
   "id": "initial_id",
   "metadata": {
    "collapsed": true,
    "ExecuteTime": {
     "end_time": "2025-08-04T06:07:32.533100Z",
     "start_time": "2025-08-04T06:07:31.621402Z"
    }
   },
   "source": [
    "import pandas as pd\n",
    "s = pd.Series([10,2,3,4,5])\n",
    "# 自定义索引\n",
    "s = pd.Series([10,2,3,4,5], index=['A', 'B', 'C', 'D', 'E'])\n",
    "# s = pd.Series([10,2,3,4,5], index=[1,2,3,4,5])\n",
    "# 定义name\n",
    "s = pd.Series([10,2,3,4,5], index=['A', 'B', 'C', 'D', 'E'], name = '月份')\n",
    "print(s)"
   ],
   "outputs": [
    {
     "name": "stdout",
     "output_type": "stream",
     "text": [
      "A    10\n",
      "B     2\n",
      "C     3\n",
      "D     4\n",
      "E     5\n",
      "Name: 月份, dtype: int64\n"
     ]
    }
   ],
   "execution_count": 1
  },
  {
   "metadata": {
    "ExecuteTime": {
     "end_time": "2025-08-04T06:08:09.166273Z",
     "start_time": "2025-08-04T06:08:09.144262Z"
    }
   },
   "cell_type": "code",
   "source": [
    "# 通过字典来创建\n",
    "s = pd.Series({\"a\":1,\"b\":2,\"c\":3,\"d\":4,\"e\":5})\n",
    "print(s)\n",
    "\n",
    "print('-' * 20)\n",
    "\n",
    "s2 = pd.Series([10,2,3,4,5], index=['A', 'B', 'C', 'D', 'E'], name = '月份')\n",
    "s1 = pd.Series(s2,index=[\"A\",\"C\"])\n",
    "print(s1)"
   ],
   "id": "18dc6b74de42d5f3",
   "outputs": [
    {
     "name": "stdout",
     "output_type": "stream",
     "text": [
      "a    1\n",
      "b    2\n",
      "c    3\n",
      "d    4\n",
      "e    5\n",
      "dtype: int64\n",
      "--------------------\n",
      "A    10\n",
      "C     3\n",
      "Name: 月份, dtype: int64\n"
     ]
    }
   ],
   "execution_count": 4
  },
  {
   "metadata": {},
   "cell_type": "markdown",
   "source": "## 2. Series的属性",
   "id": "432189f8ae751822"
  },
  {
   "metadata": {
    "ExecuteTime": {
     "end_time": "2025-08-04T06:11:18.891127Z",
     "start_time": "2025-08-04T06:11:18.886281Z"
    }
   },
   "cell_type": "code",
   "source": [
    "'''\n",
    "index:Series的索引对象\n",
    "values:Series的值\n",
    "dtype或dtypes\"Series的元素类型\n",
    "shape:Series的形状\n",
    "ndim:Series的维度\n",
    "size:Series的元素个数\n",
    "name:Series的名称\n",
    "loc[]  显式索引，按标签索引或切片\n",
    "iloc[]  隐式索引，按位置索引或切片\n",
    "at[]  使用标签访问单个元素\n",
    "iat[]  使用位置访问单个元素\n",
    "'''\n",
    "# print(s.index)\n",
    "# print(s.values)\n",
    "# print(s.shape,s.ndim,s.size)\n",
    "# s.name = 'test'\n",
    "# print(s.dtype,s.name)\n",
    "print(s.loc['a']) #显式索引\n",
    "print(s.iloc[0])  #隐式索引\n",
    "print(s.at['a'])\n",
    "print(s.iat[0])"
   ],
   "id": "96af6082ec704c4b",
   "outputs": [
    {
     "name": "stdout",
     "output_type": "stream",
     "text": [
      "1\n",
      "1\n",
      "1\n",
      "1\n"
     ]
    }
   ],
   "execution_count": 5
  },
  {
   "metadata": {
    "ExecuteTime": {
     "end_time": "2025-08-04T06:13:43.601402Z",
     "start_time": "2025-08-04T06:13:43.595800Z"
    }
   },
   "cell_type": "code",
   "source": [
    "# 访问数据\n",
    "# print(s[1])\n",
    "# print(s['c'])\n",
    "# print(s)\n",
    "# print(s[s<3])\n",
    "s['f']=6\n",
    "print(s.head(2))\n",
    "print(s.tail(1))"
   ],
   "id": "c7b39662878077c4",
   "outputs": [
    {
     "name": "stdout",
     "output_type": "stream",
     "text": [
      "a    1\n",
      "b    2\n",
      "dtype: int64\n",
      "f    6\n",
      "dtype: int64\n"
     ]
    }
   ],
   "execution_count": 6
  },
  {
   "metadata": {},
   "cell_type": "markdown",
   "source": "## 3. Series的常见函数",
   "id": "5af047e7a84ed317"
  },
  {
   "metadata": {
    "ExecuteTime": {
     "end_time": "2025-08-04T06:20:17.025790Z",
     "start_time": "2025-08-04T06:20:17.022109Z"
    }
   },
   "cell_type": "code",
   "source": [
    "import numpy as np\n",
    "s = pd.Series([10,2,np.nan,None,3,4,5], index=['A', 'B', 'C', 'D', 'E','F','G'], name= 'data')\n",
    "print(s)"
   ],
   "id": "81f4ff0637802e99",
   "outputs": [
    {
     "name": "stdout",
     "output_type": "stream",
     "text": [
      "A    10.0\n",
      "B     2.0\n",
      "C     NaN\n",
      "D     NaN\n",
      "E     3.0\n",
      "F     4.0\n",
      "G     5.0\n",
      "Name: data, dtype: float64\n"
     ]
    }
   ],
   "execution_count": 8
  },
  {
   "metadata": {
    "ExecuteTime": {
     "end_time": "2025-08-04T06:20:21.033845Z",
     "start_time": "2025-08-04T06:20:21.022987Z"
    }
   },
   "cell_type": "code",
   "source": [
    "s.head(3)  # 默认取前5行的数据\n",
    "s.tail(2)   #默认取后5行的数据"
   ],
   "id": "62aa0810c4a358e6",
   "outputs": [
    {
     "data": {
      "text/plain": [
       "F    4.0\n",
       "G    5.0\n",
       "Name: data, dtype: float64"
      ]
     },
     "execution_count": 9,
     "metadata": {},
     "output_type": "execute_result"
    }
   ],
   "execution_count": 9
  },
  {
   "metadata": {
    "ExecuteTime": {
     "end_time": "2025-08-04T06:21:46.909413Z",
     "start_time": "2025-08-04T06:21:46.904635Z"
    }
   },
   "cell_type": "code",
   "source": [
    "# 查看所有的描述性信息\n",
    "s.describe()"
   ],
   "id": "d716a15eaf24a33b",
   "outputs": [
    {
     "data": {
      "text/plain": [
       "count     5.000000\n",
       "mean      4.800000\n",
       "std       3.114482\n",
       "min       2.000000\n",
       "25%       3.000000\n",
       "50%       4.000000\n",
       "75%       5.000000\n",
       "max      10.000000\n",
       "Name: data, dtype: float64"
      ]
     },
     "execution_count": 11,
     "metadata": {},
     "output_type": "execute_result"
    }
   ],
   "execution_count": 11
  },
  {
   "metadata": {
    "ExecuteTime": {
     "end_time": "2025-08-04T06:22:44.381676Z",
     "start_time": "2025-08-04T06:22:44.379065Z"
    }
   },
   "cell_type": "code",
   "source": [
    "# 获取元素个数(忽略缺失值）\n",
    "print(s.count())"
   ],
   "id": "4c86810f9940555f",
   "outputs": [
    {
     "name": "stdout",
     "output_type": "stream",
     "text": [
      "5\n"
     ]
    }
   ],
   "execution_count": 12
  },
  {
   "metadata": {
    "ExecuteTime": {
     "end_time": "2025-08-04T06:22:52.898789Z",
     "start_time": "2025-08-04T06:22:52.895466Z"
    }
   },
   "cell_type": "code",
   "source": [
    "# 获取索引\n",
    "print(s.keys())   # 方法\n",
    "print(s.index)   # 属性"
   ],
   "id": "731e8ed9d1505c3f",
   "outputs": [
    {
     "name": "stdout",
     "output_type": "stream",
     "text": [
      "Index(['A', 'B', 'C', 'D', 'E', 'F', 'G'], dtype='object')\n",
      "Index(['A', 'B', 'C', 'D', 'E', 'F', 'G'], dtype='object')\n"
     ]
    }
   ],
   "execution_count": 13
  },
  {
   "metadata": {
    "ExecuteTime": {
     "end_time": "2025-08-04T06:24:03.129475Z",
     "start_time": "2025-08-04T06:24:03.123495Z"
    }
   },
   "cell_type": "code",
   "source": [
    "print(s.isna())  #检查Series里的每一个元素是否为缺失值\n",
    "s.isna()"
   ],
   "id": "a3b98aa962570f9d",
   "outputs": [
    {
     "name": "stdout",
     "output_type": "stream",
     "text": [
      "A    False\n",
      "B    False\n",
      "C     True\n",
      "D     True\n",
      "E    False\n",
      "F    False\n",
      "G    False\n",
      "Name: data, dtype: bool\n"
     ]
    },
    {
     "data": {
      "text/plain": [
       "A    False\n",
       "B    False\n",
       "C     True\n",
       "D     True\n",
       "E    False\n",
       "F    False\n",
       "G    False\n",
       "Name: data, dtype: bool"
      ]
     },
     "execution_count": 14,
     "metadata": {},
     "output_type": "execute_result"
    }
   ],
   "execution_count": 14
  },
  {
   "metadata": {
    "ExecuteTime": {
     "end_time": "2025-08-04T06:24:37.379289Z",
     "start_time": "2025-08-04T06:24:37.372202Z"
    }
   },
   "cell_type": "code",
   "source": "s.isin([4,5,6])  # 检查每个元素是否在参数集合中",
   "id": "6bc1b3ccfbf2785c",
   "outputs": [
    {
     "data": {
      "text/plain": [
       "A    False\n",
       "B    False\n",
       "C    False\n",
       "D    False\n",
       "E    False\n",
       "F     True\n",
       "G     True\n",
       "Name: data, dtype: bool"
      ]
     },
     "execution_count": 15,
     "metadata": {},
     "output_type": "execute_result"
    }
   ],
   "execution_count": 15
  },
  {
   "metadata": {
    "ExecuteTime": {
     "end_time": "2025-08-04T06:24:42.183107Z",
     "start_time": "2025-08-04T06:24:42.176906Z"
    }
   },
   "cell_type": "code",
   "source": "s.describe()",
   "id": "a7c7eb85736467a5",
   "outputs": [
    {
     "data": {
      "text/plain": [
       "count     5.000000\n",
       "mean      4.800000\n",
       "std       3.114482\n",
       "min       2.000000\n",
       "25%       3.000000\n",
       "50%       4.000000\n",
       "75%       5.000000\n",
       "max      10.000000\n",
       "Name: data, dtype: float64"
      ]
     },
     "execution_count": 16,
     "metadata": {},
     "output_type": "execute_result"
    }
   ],
   "execution_count": 16
  },
  {
   "metadata": {
    "ExecuteTime": {
     "end_time": "2025-08-04T06:26:01.560936Z",
     "start_time": "2025-08-04T06:26:01.555743Z"
    }
   },
   "cell_type": "code",
   "source": [
    "print(s.mean())  #平均值\n",
    "print(s.sum())   #总和\n",
    "print(s.std())   #标准差\n",
    "print(s.var())   #方差\n",
    "print(s.min()) #最小值\n",
    "print(s.max())  #最大值\n",
    "print(s.median())  #中位数"
   ],
   "id": "a6704c7f90d8583a",
   "outputs": [
    {
     "name": "stdout",
     "output_type": "stream",
     "text": [
      "4.8\n",
      "24.0\n",
      "3.1144823004794877\n",
      "9.700000000000001\n",
      "2.0\n",
      "10.0\n",
      "4.0\n"
     ]
    }
   ],
   "execution_count": 17
  },
  {
   "metadata": {
    "ExecuteTime": {
     "end_time": "2025-08-04T06:28:09.641812Z",
     "start_time": "2025-08-04T06:28:09.638503Z"
    }
   },
   "cell_type": "code",
   "source": "print(s)",
   "id": "aebcf7bc1512bb6",
   "outputs": [
    {
     "name": "stdout",
     "output_type": "stream",
     "text": [
      "A    10.0\n",
      "B     2.0\n",
      "C     NaN\n",
      "D     NaN\n",
      "E     3.0\n",
      "F     4.0\n",
      "G     5.0\n",
      "Name: data, dtype: float64\n"
     ]
    }
   ],
   "execution_count": 18
  },
  {
   "metadata": {
    "ExecuteTime": {
     "end_time": "2025-08-04T06:28:50.308454Z",
     "start_time": "2025-08-04T06:28:50.305011Z"
    }
   },
   "cell_type": "code",
   "source": [
    "# print(s.sort_values())\n",
    "print(s.quantile(0.8)) #分位数\n",
    "#————————————————\n",
    "#2  3   4  5   10\n",
    "#位置 4*0.8=3.2\n",
    "#值的计算  5 + （10-5）*0.2 = 6"
   ],
   "id": "6733c71b4b72594f",
   "outputs": [
    {
     "name": "stdout",
     "output_type": "stream",
     "text": [
      "6.000000000000001\n"
     ]
    }
   ],
   "execution_count": 19
  },
  {
   "metadata": {
    "ExecuteTime": {
     "end_time": "2025-08-04T06:34:02.643938Z",
     "start_time": "2025-08-04T06:34:02.638345Z"
    }
   },
   "cell_type": "code",
   "source": [
    "#众数\n",
    "s['H']=4\n",
    "print(s.mode())"
   ],
   "id": "ee2dc2a67d792c65",
   "outputs": [
    {
     "name": "stdout",
     "output_type": "stream",
     "text": [
      "0    4.0\n",
      "Name: data, dtype: float64\n"
     ]
    }
   ],
   "execution_count": 20
  },
  {
   "metadata": {
    "ExecuteTime": {
     "end_time": "2025-08-04T06:34:04.503476Z",
     "start_time": "2025-08-04T06:34:04.497346Z"
    }
   },
   "cell_type": "code",
   "source": "print(s.value_counts())  # 每个元素的计数",
   "id": "c6872e9718e78a58",
   "outputs": [
    {
     "name": "stdout",
     "output_type": "stream",
     "text": [
      "data\n",
      "4.0     2\n",
      "10.0    1\n",
      "2.0     1\n",
      "3.0     1\n",
      "5.0     1\n",
      "Name: count, dtype: int64\n"
     ]
    }
   ],
   "execution_count": 21
  },
  {
   "metadata": {
    "ExecuteTime": {
     "end_time": "2025-08-04T06:34:07.067404Z",
     "start_time": "2025-08-04T06:34:07.062851Z"
    }
   },
   "cell_type": "code",
   "source": [
    "s.drop_duplicates()  #去重\n",
    "s.unique()\n",
    "print(s.nunique()) #去重后的元素个数"
   ],
   "id": "81e30c05059a56b0",
   "outputs": [
    {
     "name": "stdout",
     "output_type": "stream",
     "text": [
      "5\n"
     ]
    }
   ],
   "execution_count": 22
  },
  {
   "metadata": {},
   "cell_type": "code",
   "source": [
    "# 排序  值、索引\n",
    "s.sort_index()  # 按索引排序\n",
    "s.sort_values()  #按值排序"
   ],
   "id": "5079c0367697814f",
   "outputs": [],
   "execution_count": null
  },
  {
   "metadata": {},
   "cell_type": "markdown",
   "source": "# 3.2 Series 案例分析",
   "id": "7585dfc1e00ea307"
  },
  {
   "metadata": {},
   "cell_type": "markdown",
   "source": "## 1. 学生成绩统计",
   "id": "4e4a3a6d170a2e99"
  },
  {
   "metadata": {
    "ExecuteTime": {
     "end_time": "2025-08-04T07:38:10.958005Z",
     "start_time": "2025-08-04T07:38:10.950842Z"
    }
   },
   "cell_type": "code",
   "source": [
    "'''创建一个包含10名学生数学成绩的Series，成绩范围在50-100之间。\n",
    "计算平均分、最高分、最低分，并找出高于平均分的学生人数。'''\n",
    "\n",
    "import pandas as pd\n",
    "import numpy as np\n",
    "np.random.seed(42)\n",
    "values = np.random.randint(50,101,10)\n",
    "indexes = []\n",
    "for i in range(1,11):\n",
    "    indexes.append('学生'+str(i))\n",
    "scores = pd.Series(values,indexes)\n",
    "# print(scores)\n",
    "print('平均分：',scores.mean())\n",
    "print('最高分：',scores.max())\n",
    "print('最低分：',scores.min())\n",
    "# 高于平均分的学生人数\n",
    "mean = scores.mean()\n",
    "print('高于平均分的学生人数:',len(scores[scores>mean]))\n",
    "print('高于平均分的学生人数:',scores[scores>mean].count())"
   ],
   "id": "821c1619b3f2e43d",
   "outputs": [
    {
     "name": "stdout",
     "output_type": "stream",
     "text": [
      "平均分： 73.7\n",
      "最高分： 92\n",
      "最低分： 57\n",
      "高于平均分的学生人数: 4\n",
      "高于平均分的学生人数: 4\n"
     ]
    }
   ],
   "execution_count": 44
  },
  {
   "metadata": {},
   "cell_type": "markdown",
   "source": "## 2. 温度数据分析",
   "id": "64738aeb66d3eca5"
  },
  {
   "metadata": {
    "ExecuteTime": {
     "end_time": "2025-08-04T06:50:28.346552Z",
     "start_time": "2025-08-04T06:50:28.343986Z"
    }
   },
   "cell_type": "code",
   "source": [
    "'''温度数据统计\n",
    "给定某城市一周每天的最高温度Series，完成以下任务：\n",
    "找出温度超过30度的天数\n",
    "计算平均温度\n",
    "将温度从高到低排序\n",
    "找出温度变化最大的两天\n",
    "'''\n",
    "import pandas as pd\n",
    "import numpy as np\n",
    "temperatures = pd.Series([28, 31, 29, 32, 30, 27, 33],\n",
    "                         index=['周一', '周二', '周三', '周四', '周五', '周六', '周日'])"
   ],
   "id": "acc34c120e244526",
   "outputs": [],
   "execution_count": 23
  },
  {
   "metadata": {
    "ExecuteTime": {
     "end_time": "2025-08-04T06:50:30.311865Z",
     "start_time": "2025-08-04T06:50:30.308455Z"
    }
   },
   "cell_type": "code",
   "source": [
    "# 找出温度超过30度的天数\n",
    "n = temperatures[temperatures>30].count()\n",
    "print('超过30度的天数：',n)"
   ],
   "id": "c729173b291f3b8b",
   "outputs": [
    {
     "name": "stdout",
     "output_type": "stream",
     "text": [
      "超过30度的天数： 3\n"
     ]
    }
   ],
   "execution_count": 24
  },
  {
   "metadata": {
    "ExecuteTime": {
     "end_time": "2025-08-04T06:50:31.708757Z",
     "start_time": "2025-08-04T06:50:31.705720Z"
    }
   },
   "cell_type": "code",
   "source": [
    "# 计算平均温度\n",
    "print('平均温度：',temperatures.mean())"
   ],
   "id": "d6d688d6c46debcb",
   "outputs": [
    {
     "name": "stdout",
     "output_type": "stream",
     "text": [
      "平均温度： 30.0\n"
     ]
    }
   ],
   "execution_count": 25
  },
  {
   "metadata": {
    "ExecuteTime": {
     "end_time": "2025-08-04T06:50:35.187389Z",
     "start_time": "2025-08-04T06:50:35.183395Z"
    }
   },
   "cell_type": "code",
   "source": [
    "# 将温度从高到低排序\n",
    "t2 = temperatures.sort_values(ascending=False)\n",
    "print('从高到低排序：',t2)"
   ],
   "id": "b10f2bcea7559450",
   "outputs": [
    {
     "name": "stdout",
     "output_type": "stream",
     "text": [
      "从高到低排序： 周日    33\n",
      "周四    32\n",
      "周二    31\n",
      "周五    30\n",
      "周三    29\n",
      "周一    28\n",
      "周六    27\n",
      "dtype: int64\n"
     ]
    }
   ],
   "execution_count": 26
  },
  {
   "metadata": {
    "ExecuteTime": {
     "end_time": "2025-08-04T07:47:06.005960Z",
     "start_time": "2025-08-04T07:47:05.999192Z"
    }
   },
   "cell_type": "code",
   "source": [
    "# 找出温度变化最大的两天\n",
    "# 28 31 29 32 30 27 33\n",
    "# none 3 -2 3 -2 -3 6\n",
    "t3 = temperatures.diff().abs()   #计算series的变化值\n",
    "\n",
    "print('温度变化最大的两天',*(t3.sort_values(ascending=False).keys()[:2].tolist()))"
   ],
   "id": "4c39ee895446a466",
   "outputs": [
    {
     "name": "stdout",
     "output_type": "stream",
     "text": [
      "温度变化最大的两天 周日 周二\n"
     ]
    }
   ],
   "execution_count": 45
  },
  {
   "metadata": {},
   "cell_type": "markdown",
   "source": "## 3. 股票价格分析",
   "id": "f31679270289096"
  },
  {
   "metadata": {},
   "cell_type": "code",
   "source": [
    "'''\n",
    "股票价格分析\n",
    "给定某股票连续10个交易日的收盘价Series：\n",
    "计算每日收益率（当日收盘价/前日收盘价 - 1）\n",
    "找出收益率最高和最低的日期\n",
    "计算波动率（收益率的标准差）\n",
    "\n",
    "\n",
    "prices = pd.Series([102.3, 103.5, 105.1, 104.8, 106.2, 107.0, 106.5, 108.1, 109.3, 110.2], index=pd.date_range('2023-01-01', periods=10))\n",
    "'''"
   ],
   "id": "e04a283be264fea8",
   "outputs": [],
   "execution_count": null
  },
  {
   "metadata": {
    "ExecuteTime": {
     "end_time": "2025-08-04T06:57:32.986452Z",
     "start_time": "2025-08-04T06:57:32.977669Z"
    }
   },
   "cell_type": "code",
   "source": [
    "import pandas as pd\n",
    "import numpy as np\n",
    "# 日期序列\n",
    "date = pd.date_range('2000-06-1',periods=60)\n",
    "print(list(date))"
   ],
   "id": "61888e31689123a4",
   "outputs": [
    {
     "name": "stdout",
     "output_type": "stream",
     "text": [
      "[Timestamp('2000-06-01 00:00:00'), Timestamp('2000-06-02 00:00:00'), Timestamp('2000-06-03 00:00:00'), Timestamp('2000-06-04 00:00:00'), Timestamp('2000-06-05 00:00:00'), Timestamp('2000-06-06 00:00:00'), Timestamp('2000-06-07 00:00:00'), Timestamp('2000-06-08 00:00:00'), Timestamp('2000-06-09 00:00:00'), Timestamp('2000-06-10 00:00:00'), Timestamp('2000-06-11 00:00:00'), Timestamp('2000-06-12 00:00:00'), Timestamp('2000-06-13 00:00:00'), Timestamp('2000-06-14 00:00:00'), Timestamp('2000-06-15 00:00:00'), Timestamp('2000-06-16 00:00:00'), Timestamp('2000-06-17 00:00:00'), Timestamp('2000-06-18 00:00:00'), Timestamp('2000-06-19 00:00:00'), Timestamp('2000-06-20 00:00:00'), Timestamp('2000-06-21 00:00:00'), Timestamp('2000-06-22 00:00:00'), Timestamp('2000-06-23 00:00:00'), Timestamp('2000-06-24 00:00:00'), Timestamp('2000-06-25 00:00:00'), Timestamp('2000-06-26 00:00:00'), Timestamp('2000-06-27 00:00:00'), Timestamp('2000-06-28 00:00:00'), Timestamp('2000-06-29 00:00:00'), Timestamp('2000-06-30 00:00:00'), Timestamp('2000-07-01 00:00:00'), Timestamp('2000-07-02 00:00:00'), Timestamp('2000-07-03 00:00:00'), Timestamp('2000-07-04 00:00:00'), Timestamp('2000-07-05 00:00:00'), Timestamp('2000-07-06 00:00:00'), Timestamp('2000-07-07 00:00:00'), Timestamp('2000-07-08 00:00:00'), Timestamp('2000-07-09 00:00:00'), Timestamp('2000-07-10 00:00:00'), Timestamp('2000-07-11 00:00:00'), Timestamp('2000-07-12 00:00:00'), Timestamp('2000-07-13 00:00:00'), Timestamp('2000-07-14 00:00:00'), Timestamp('2000-07-15 00:00:00'), Timestamp('2000-07-16 00:00:00'), Timestamp('2000-07-17 00:00:00'), Timestamp('2000-07-18 00:00:00'), Timestamp('2000-07-19 00:00:00'), Timestamp('2000-07-20 00:00:00'), Timestamp('2000-07-21 00:00:00'), Timestamp('2000-07-22 00:00:00'), Timestamp('2000-07-23 00:00:00'), Timestamp('2000-07-24 00:00:00'), Timestamp('2000-07-25 00:00:00'), Timestamp('2000-07-26 00:00:00'), Timestamp('2000-07-27 00:00:00'), Timestamp('2000-07-28 00:00:00'), Timestamp('2000-07-29 00:00:00'), Timestamp('2000-07-30 00:00:00')]\n"
     ]
    }
   ],
   "execution_count": 28
  },
  {
   "metadata": {
    "ExecuteTime": {
     "end_time": "2025-08-04T06:57:35.886665Z",
     "start_time": "2025-08-04T06:57:35.883061Z"
    }
   },
   "cell_type": "code",
   "source": "prices = pd.Series([102.3, 103.5, 105.1, 104.8, 106.2, 107.0, 106.5, 108.1, 109.3, 110.2], index=pd.date_range('2023-01-01', periods=10))",
   "id": "41bbfa0725545ff3",
   "outputs": [],
   "execution_count": 29
  },
  {
   "metadata": {
    "ExecuteTime": {
     "end_time": "2025-08-04T07:53:06.639974Z",
     "start_time": "2025-08-04T07:53:06.634228Z"
    }
   },
   "cell_type": "code",
   "source": "prices",
   "id": "88f1c55daebe7949",
   "outputs": [
    {
     "data": {
      "text/plain": [
       "2023-01-01    102.3\n",
       "2023-01-02    103.5\n",
       "2023-01-03    105.1\n",
       "2023-01-04    104.8\n",
       "2023-01-05    106.2\n",
       "2023-01-06    107.0\n",
       "2023-01-07    106.5\n",
       "2023-01-08    108.1\n",
       "2023-01-09    109.3\n",
       "2023-01-10    110.2\n",
       "Freq: D, dtype: float64"
      ]
     },
     "execution_count": 46,
     "metadata": {},
     "output_type": "execute_result"
    }
   ],
   "execution_count": 46
  },
  {
   "metadata": {
    "ExecuteTime": {
     "end_time": "2025-08-04T07:53:31.039231Z",
     "start_time": "2025-08-04T07:53:31.035419Z"
    }
   },
   "cell_type": "code",
   "source": [
    "'''计算每日收益率（当日收盘价/前日收盘价 - 1）\n",
    "找出收益率最高和最低的日期\n",
    "计算波动率（收益率的标准差）'''\n",
    "# 计算每日收益率\n",
    "a = prices.pct_change()  #percent  103.5/102.3 - 1"
   ],
   "id": "c008307da17b15e2",
   "outputs": [],
   "execution_count": 47
  },
  {
   "metadata": {
    "ExecuteTime": {
     "end_time": "2025-08-04T07:53:32.100197Z",
     "start_time": "2025-08-04T07:53:32.097568Z"
    }
   },
   "cell_type": "code",
   "source": [
    "# 收益率最高的日期\n",
    "print(a.idxmax())\n",
    "# 收益率最低的日期\n",
    "print(a.idxmin())"
   ],
   "id": "eac2c5c2b026730d",
   "outputs": [
    {
     "name": "stdout",
     "output_type": "stream",
     "text": [
      "2023-01-03 00:00:00\n",
      "2023-01-07 00:00:00\n"
     ]
    }
   ],
   "execution_count": 48
  },
  {
   "metadata": {
    "ExecuteTime": {
     "end_time": "2025-08-04T06:58:20.690128Z",
     "start_time": "2025-08-04T06:58:20.686912Z"
    }
   },
   "cell_type": "code",
   "source": [
    "# 波动率\n",
    "print(a.std())"
   ],
   "id": "469ad2e6e97ad33",
   "outputs": [
    {
     "name": "stdout",
     "output_type": "stream",
     "text": [
      "0.007373623845361105\n"
     ]
    }
   ],
   "execution_count": 33
  },
  {
   "metadata": {},
   "cell_type": "markdown",
   "source": "## 4. 销售数据分析",
   "id": "fd967f0bb8dff82"
  },
  {
   "metadata": {},
   "cell_type": "code",
   "source": [
    "'''销售数据分析\n",
    "某产品过去12个月的销售量Series：\n",
    "计算季度平均销量（每3个月为一个季度）\n",
    "找出销量最高的月份\n",
    "计算月环比增长率\n",
    "找出连续增长超过2个月的月份\n",
    "\n",
    "sales = pd.Series([120, 135, 145, 160, 155, 170, 180, 175, 190, 200, 210, 220],index=pd.date_range('2022-01-01', periods=12, freq='MS'))'''"
   ],
   "id": "7f1feaf83ec3180f",
   "outputs": [],
   "execution_count": null
  },
  {
   "metadata": {
    "ExecuteTime": {
     "end_time": "2025-08-04T07:02:17.900782Z",
     "start_time": "2025-08-04T07:02:17.895921Z"
    }
   },
   "cell_type": "code",
   "source": "a = pd.date_range('2022-01-01', periods=12, freq='MS')",
   "id": "a75916878370374b",
   "outputs": [],
   "execution_count": 34
  },
  {
   "metadata": {
    "ExecuteTime": {
     "end_time": "2025-08-04T07:02:26.632497Z",
     "start_time": "2025-08-04T07:02:26.628361Z"
    }
   },
   "cell_type": "code",
   "source": "sales = pd.Series([120, 135, 145, 160, 155, 170, 180, 175, 190, 200, 210, 220],index=pd.date_range('2022-01-01', periods=12, freq='MS'))",
   "id": "f07ee342246791db",
   "outputs": [],
   "execution_count": 35
  },
  {
   "metadata": {
    "ExecuteTime": {
     "end_time": "2025-08-04T07:02:28.748638Z",
     "start_time": "2025-08-04T07:02:28.743198Z"
    }
   },
   "cell_type": "code",
   "source": "sales",
   "id": "4c924e73f338505c",
   "outputs": [
    {
     "data": {
      "text/plain": [
       "2022-01-01    120\n",
       "2022-02-01    135\n",
       "2022-03-01    145\n",
       "2022-04-01    160\n",
       "2022-05-01    155\n",
       "2022-06-01    170\n",
       "2022-07-01    180\n",
       "2022-08-01    175\n",
       "2022-09-01    190\n",
       "2022-10-01    200\n",
       "2022-11-01    210\n",
       "2022-12-01    220\n",
       "Freq: MS, dtype: int64"
      ]
     },
     "execution_count": 36,
     "metadata": {},
     "output_type": "execute_result"
    }
   ],
   "execution_count": 36
  },
  {
   "metadata": {
    "ExecuteTime": {
     "end_time": "2025-08-04T07:04:51.524047Z",
     "start_time": "2025-08-04T07:04:51.514500Z"
    }
   },
   "cell_type": "code",
   "source": [
    "# 季度的平均销量\n",
    "# (120+135+145)/3 = 400/3\n",
    "sales.resample('QS').mean()  #重新采样"
   ],
   "id": "d4934c48903f1a85",
   "outputs": [
    {
     "data": {
      "text/plain": [
       "2022-01-01    133.333333\n",
       "2022-04-01    161.666667\n",
       "2022-07-01    181.666667\n",
       "2022-10-01    210.000000\n",
       "Freq: QS-JAN, dtype: float64"
      ]
     },
     "execution_count": 38,
     "metadata": {},
     "output_type": "execute_result"
    }
   ],
   "execution_count": 38
  },
  {
   "metadata": {
    "ExecuteTime": {
     "end_time": "2025-08-04T07:08:17.922218Z",
     "start_time": "2025-08-04T07:08:17.919351Z"
    }
   },
   "cell_type": "code",
   "source": "print('销量最高的月份',sales.idxmax())",
   "id": "15a3cbe7a7835a86",
   "outputs": [
    {
     "name": "stdout",
     "output_type": "stream",
     "text": [
      "销量最高的月份 2022-12-01 00:00:00\n"
     ]
    }
   ],
   "execution_count": 39
  },
  {
   "metadata": {
    "ExecuteTime": {
     "end_time": "2025-08-04T07:08:33.102645Z",
     "start_time": "2025-08-04T07:08:33.096555Z"
    }
   },
   "cell_type": "code",
   "source": [
    "print('月环比的增长率')\n",
    "sales.pct_change()"
   ],
   "id": "de09b3f163973d1b",
   "outputs": [
    {
     "name": "stdout",
     "output_type": "stream",
     "text": [
      "月环比的增长率\n"
     ]
    },
    {
     "data": {
      "text/plain": [
       "2022-01-01         NaN\n",
       "2022-02-01    0.125000\n",
       "2022-03-01    0.074074\n",
       "2022-04-01    0.103448\n",
       "2022-05-01   -0.031250\n",
       "2022-06-01    0.096774\n",
       "2022-07-01    0.058824\n",
       "2022-08-01   -0.027778\n",
       "2022-09-01    0.085714\n",
       "2022-10-01    0.052632\n",
       "2022-11-01    0.050000\n",
       "2022-12-01    0.047619\n",
       "Freq: MS, dtype: float64"
      ]
     },
     "execution_count": 40,
     "metadata": {},
     "output_type": "execute_result"
    }
   ],
   "execution_count": 40
  },
  {
   "metadata": {
    "ExecuteTime": {
     "end_time": "2025-08-04T07:09:28.272285Z",
     "start_time": "2025-08-04T07:09:28.269379Z"
    }
   },
   "cell_type": "code",
   "source": [
    "# 找出连续增长超过2个月的月份\n",
    "sales"
   ],
   "id": "5843d4dacde5e9ac",
   "outputs": [
    {
     "data": {
      "text/plain": [
       "2022-01-01    120\n",
       "2022-02-01    135\n",
       "2022-03-01    145\n",
       "2022-04-01    160\n",
       "2022-05-01    155\n",
       "2022-06-01    170\n",
       "2022-07-01    180\n",
       "2022-08-01    175\n",
       "2022-09-01    190\n",
       "2022-10-01    200\n",
       "2022-11-01    210\n",
       "2022-12-01    220\n",
       "Freq: MS, dtype: int64"
      ]
     },
     "execution_count": 41,
     "metadata": {},
     "output_type": "execute_result"
    }
   ],
   "execution_count": 41
  },
  {
   "metadata": {
    "ExecuteTime": {
     "end_time": "2025-08-04T07:11:26.274644Z",
     "start_time": "2025-08-04T07:11:26.267290Z"
    }
   },
   "cell_type": "code",
   "source": [
    "a = sales.pct_change()\n",
    "b=a>0\n",
    "b[b.rolling(3).sum()==3].keys().tolist()"
   ],
   "id": "5934b2b25c95a673",
   "outputs": [
    {
     "data": {
      "text/plain": [
       "[Timestamp('2022-04-01 00:00:00'),\n",
       " Timestamp('2022-11-01 00:00:00'),\n",
       " Timestamp('2022-12-01 00:00:00')]"
      ]
     },
     "execution_count": 42,
     "metadata": {},
     "output_type": "execute_result"
    }
   ],
   "execution_count": 42
  },
  {
   "metadata": {},
   "cell_type": "markdown",
   "source": "## 5. 每小时销售数据分析",
   "id": "bcc953c0d9524737"
  },
  {
   "metadata": {},
   "cell_type": "code",
   "source": [
    "'''每小时销售数据分析\n",
    "某商店每小时销售额Series：\n",
    "按天重采样计算每日总销售额\n",
    "计算每天营业时间（8:00-22:00）和非营业时间的销售额比例\n",
    "找出销售额最高的3个小时'''"
   ],
   "id": "dffa5987cdfb2111",
   "outputs": [],
   "execution_count": null
  },
  {
   "metadata": {
    "ExecuteTime": {
     "end_time": "2025-08-04T07:19:06.071962Z",
     "start_time": "2025-08-04T07:19:06.058876Z"
    }
   },
   "cell_type": "code",
   "source": [
    "import pandas as pd\n",
    "import numpy as np\n",
    "np.random.seed(42)\n",
    "h = pd.Series(np.random.randint(0,100,24),\n",
    "          index=pd.date_range('2025-01-01',periods=24,freq='h'))\n",
    "# 按天重采样计算每日总销售额\n",
    "day_sales = h.resample('D').sum()\n",
    "# hours_sales.sum()\n",
    "# 计算每天营业时间（8:00-22:00）和非营业时间的销售额比例\n",
    "mask =(h.index.hour>=8) & ((h.index.hour<=22))\n",
    "b = h[mask]\n",
    "n_b = h[~mask]\n",
    "print(b.sum()/n_b.sum())\n",
    "# 找出销售额最高的3个小时\n",
    "print(h.nlargest(3).keys())"
   ],
   "id": "1d51458c58a30e16",
   "outputs": [
    {
     "name": "stdout",
     "output_type": "stream",
     "text": [
      "1.4294354838709677\n",
      "DatetimeIndex(['2025-01-01 11:00:00', '2025-01-01 01:00:00',\n",
      "               '2025-01-01 10:00:00'],\n",
      "              dtype='datetime64[ns]', freq=None)\n"
     ]
    }
   ],
   "execution_count": 43
  }
 ],
 "metadata": {
  "kernelspec": {
   "display_name": "Python [conda env:base] *",
   "language": "python",
   "name": "conda-base-py"
  },
  "language_info": {
   "codemirror_mode": {
    "name": "ipython",
    "version": 2
   },
   "file_extension": ".py",
   "mimetype": "text/x-python",
   "name": "python",
   "nbconvert_exporter": "python",
   "pygments_lexer": "ipython2",
   "version": "2.7.6"
  }
 },
 "nbformat": 4,
 "nbformat_minor": 5
}
