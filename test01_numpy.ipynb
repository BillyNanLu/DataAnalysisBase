{
 "cells": [
  {
   "metadata": {},
   "cell_type": "markdown",
   "source": "# 2.1 ndarray",
   "id": "27bfb9b272db7b54"
  },
  {
   "metadata": {},
   "cell_type": "markdown",
   "source": "## 1. ndarray的特性",
   "id": "ba18d9db8bf33eed"
  },
  {
   "metadata": {},
   "cell_type": "markdown",
   "source": "### 多维性",
   "id": "7441d4438241dba2"
  },
  {
   "metadata": {
    "ExecuteTime": {
     "end_time": "2025-08-03T07:32:25.146976Z",
     "start_time": "2025-08-03T07:32:25.057890Z"
    }
   },
   "cell_type": "code",
   "source": "import numpy as np",
   "id": "75d7de018bb34ace",
   "outputs": [],
   "execution_count": 1
  },
  {
   "metadata": {
    "ExecuteTime": {
     "end_time": "2025-08-03T07:33:02.997410Z",
     "start_time": "2025-08-03T07:33:02.993623Z"
    }
   },
   "cell_type": "code",
   "source": [
    "arr = np.array(5)\n",
    "print(arr)\n",
    "print('arr的维度：', arr.ndim)"
   ],
   "id": "76fa4180f5655e0d",
   "outputs": [
    {
     "name": "stdout",
     "output_type": "stream",
     "text": [
      "5\n",
      "arr的维度： 0\n"
     ]
    }
   ],
   "execution_count": 2
  },
  {
   "metadata": {
    "ExecuteTime": {
     "end_time": "2025-08-03T07:34:00.629678Z",
     "start_time": "2025-08-03T07:34:00.624860Z"
    }
   },
   "cell_type": "code",
   "source": [
    "arr = np.array([1, 2, 3])\n",
    "print(arr)\n",
    "print('arr的维度：', arr.ndim)"
   ],
   "id": "bf7f78b113c518e0",
   "outputs": [
    {
     "name": "stdout",
     "output_type": "stream",
     "text": [
      "[1 2 3]\n",
      "arr的维度： 1\n"
     ]
    }
   ],
   "execution_count": 3
  },
  {
   "metadata": {
    "ExecuteTime": {
     "end_time": "2025-08-03T07:34:57.629025Z",
     "start_time": "2025-08-03T07:34:57.624838Z"
    }
   },
   "cell_type": "code",
   "source": [
    "arr = np.array([[1, 2, 3], [4, 5, 6]])\n",
    "print(arr)\n",
    "print('arr的维度：', arr.ndim)"
   ],
   "id": "86631daef979054b",
   "outputs": [
    {
     "name": "stdout",
     "output_type": "stream",
     "text": [
      "[[1 2 3]\n",
      " [4 5 6]]\n",
      "arr的维度： 2\n"
     ]
    }
   ],
   "execution_count": 5
  },
  {
   "metadata": {},
   "cell_type": "markdown",
   "source": "### 同质性",
   "id": "5cc6a2401616683f"
  },
  {
   "metadata": {
    "ExecuteTime": {
     "end_time": "2025-08-03T07:35:32.821544Z",
     "start_time": "2025-08-03T07:35:32.816956Z"
    }
   },
   "cell_type": "code",
   "source": [
    "arr = np.array([1, 'hello'])\n",
    "print(arr)"
   ],
   "id": "597344cbbd96ece4",
   "outputs": [
    {
     "name": "stdout",
     "output_type": "stream",
     "text": [
      "['1' 'hello']\n"
     ]
    }
   ],
   "execution_count": 6
  },
  {
   "metadata": {
    "ExecuteTime": {
     "end_time": "2025-08-03T07:35:49.630777Z",
     "start_time": "2025-08-03T07:35:49.626297Z"
    }
   },
   "cell_type": "code",
   "source": [
    "arr = np.array([1, 2.5, 3])\n",
    "print(arr)"
   ],
   "id": "501062a32baafc1b",
   "outputs": [
    {
     "name": "stdout",
     "output_type": "stream",
     "text": [
      "[1.  2.5 3. ]\n"
     ]
    }
   ],
   "execution_count": 7
  },
  {
   "metadata": {},
   "cell_type": "markdown",
   "source": "## 2. ndarray的属性",
   "id": "654d3c0305fda7b6"
  },
  {
   "metadata": {
    "ExecuteTime": {
     "end_time": "2025-08-03T07:37:43.716984Z",
     "start_time": "2025-08-03T07:37:43.712322Z"
    }
   },
   "cell_type": "code",
   "source": [
    "arr = np.array(1)\n",
    "print(arr)\n",
    "print('数组的形状：', arr.shape)\n",
    "print('数组的维度：', arr.ndim)\n",
    "print('元素的个数：', arr.size)\n",
    "print('数组的数据类型：', arr.dtype)\n",
    "print('元素的转置：', arr.T)"
   ],
   "id": "d8f9658811cf51fa",
   "outputs": [
    {
     "name": "stdout",
     "output_type": "stream",
     "text": [
      "1\n",
      "数组的形状： ()\n",
      "数组的维度： 0\n",
      "元素的个数： 1\n",
      "数组的数据类型： int64\n",
      "元素的转置： 1\n"
     ]
    }
   ],
   "execution_count": 8
  },
  {
   "metadata": {
    "ExecuteTime": {
     "end_time": "2025-08-03T07:38:08.770642Z",
     "start_time": "2025-08-03T07:38:08.765786Z"
    }
   },
   "cell_type": "code",
   "source": [
    "arr = np.array([1, 2.5, 3])\n",
    "print(arr)\n",
    "print('数组的形状：', arr.shape)\n",
    "print('数组的维度：', arr.ndim)\n",
    "print('元素的个数：', arr.size)\n",
    "print('数组的数据类型：', arr.dtype)\n",
    "print('元素的转置：', arr.T)"
   ],
   "id": "92908b4494ce6dff",
   "outputs": [
    {
     "name": "stdout",
     "output_type": "stream",
     "text": [
      "[1.  2.5 3. ]\n",
      "数组的形状： (3,)\n",
      "数组的维度： 1\n",
      "元素的个数： 3\n",
      "数组的数据类型： float64\n",
      "元素的转置： [1.  2.5 3. ]\n"
     ]
    }
   ],
   "execution_count": 9
  },
  {
   "metadata": {
    "ExecuteTime": {
     "end_time": "2025-08-03T07:38:52.231022Z",
     "start_time": "2025-08-03T07:38:52.225583Z"
    }
   },
   "cell_type": "code",
   "source": [
    "arr = np.array([[1, 2, 3], [4, 5, 6]])\n",
    "print(arr)\n",
    "print('数组的形状：', arr.shape)\n",
    "print('数组的维度：', arr.ndim)\n",
    "print('元素的个数：', arr.size)\n",
    "print('数组的数据类型：', arr.dtype)\n",
    "print('元素的转置：', arr.T)"
   ],
   "id": "3f01f615a07f87eb",
   "outputs": [
    {
     "name": "stdout",
     "output_type": "stream",
     "text": [
      "[[1 2 3]\n",
      " [4 5 6]]\n",
      "数组的形状： (2, 3)\n",
      "数组的维度： 2\n",
      "元素的个数： 6\n",
      "数组的数据类型： int64\n",
      "元素的转置： [[1 4]\n",
      " [2 5]\n",
      " [3 6]]\n"
     ]
    }
   ],
   "execution_count": 10
  },
  {
   "metadata": {},
   "cell_type": "markdown",
   "source": "## 3. ndarray的创建",
   "id": "68222b1ae289f5ab"
  },
  {
   "metadata": {
    "ExecuteTime": {
     "end_time": "2025-08-03T07:40:10.912543Z",
     "start_time": "2025-08-03T07:40:10.908178Z"
    }
   },
   "cell_type": "code",
   "source": [
    "# 基础的创建方法\n",
    "list1 = [1, 2, 3]\n",
    "arr = np.array(list1, dtype=np.float64)\n",
    "print(arr.ndim)\n",
    "print(arr)"
   ],
   "id": "b6c189aeccd0d450",
   "outputs": [
    {
     "name": "stdout",
     "output_type": "stream",
     "text": [
      "1\n",
      "[1. 2. 3.]\n"
     ]
    }
   ],
   "execution_count": 11
  },
  {
   "metadata": {
    "ExecuteTime": {
     "end_time": "2025-08-03T07:42:43.698390Z",
     "start_time": "2025-08-03T07:42:43.694578Z"
    }
   },
   "cell_type": "code",
   "source": [
    "# copy\n",
    "arr1 = np.copy(arr) # 元素跟原始的数据相同，但是不是一个数组了\n",
    "print(arr1)\n",
    "arr1[0] = 8\n",
    "print(arr1)\n",
    "print(arr)"
   ],
   "id": "bc6638bc26d2f5d1",
   "outputs": [
    {
     "name": "stdout",
     "output_type": "stream",
     "text": [
      "[1. 2. 3.]\n",
      "[8. 2. 3.]\n",
      "[1. 2. 3.]\n"
     ]
    }
   ],
   "execution_count": 12
  },
  {
   "metadata": {
    "ExecuteTime": {
     "end_time": "2025-08-03T07:43:56.978761Z",
     "start_time": "2025-08-03T07:43:56.974494Z"
    }
   },
   "cell_type": "code",
   "source": [
    "# 预定义形状\n",
    "arr = np.zeros((2, 3), dtype=int)\n",
    "print(arr)\n",
    "print(arr.dtype)"
   ],
   "id": "f995c95b871dd2b8",
   "outputs": [
    {
     "name": "stdout",
     "output_type": "stream",
     "text": [
      "[[0 0 0]\n",
      " [0 0 0]]\n",
      "int64\n"
     ]
    }
   ],
   "execution_count": 13
  },
  {
   "metadata": {
    "ExecuteTime": {
     "end_time": "2025-08-03T07:44:48.459669Z",
     "start_time": "2025-08-03T07:44:48.454635Z"
    }
   },
   "cell_type": "code",
   "source": [
    "arr = np.zeros((200,), dtype=int)\n",
    "print(arr)"
   ],
   "id": "d0577f3ca1c566f5",
   "outputs": [
    {
     "name": "stdout",
     "output_type": "stream",
     "text": [
      "[0 0 0 0 0 0 0 0 0 0 0 0 0 0 0 0 0 0 0 0 0 0 0 0 0 0 0 0 0 0 0 0 0 0 0 0 0\n",
      " 0 0 0 0 0 0 0 0 0 0 0 0 0 0 0 0 0 0 0 0 0 0 0 0 0 0 0 0 0 0 0 0 0 0 0 0 0\n",
      " 0 0 0 0 0 0 0 0 0 0 0 0 0 0 0 0 0 0 0 0 0 0 0 0 0 0 0 0 0 0 0 0 0 0 0 0 0\n",
      " 0 0 0 0 0 0 0 0 0 0 0 0 0 0 0 0 0 0 0 0 0 0 0 0 0 0 0 0 0 0 0 0 0 0 0 0 0\n",
      " 0 0 0 0 0 0 0 0 0 0 0 0 0 0 0 0 0 0 0 0 0 0 0 0 0 0 0 0 0 0 0 0 0 0 0 0 0\n",
      " 0 0 0 0 0 0 0 0 0 0 0 0 0 0 0]\n"
     ]
    }
   ],
   "execution_count": 15
  },
  {
   "metadata": {
    "ExecuteTime": {
     "end_time": "2025-08-03T07:45:07.668807Z",
     "start_time": "2025-08-03T07:45:07.666060Z"
    }
   },
   "cell_type": "code",
   "source": [
    "# 全1\n",
    "arr = np.ones((5, 8), dtype=int)\n",
    "print(arr)"
   ],
   "id": "17272417333f21d1",
   "outputs": [
    {
     "name": "stdout",
     "output_type": "stream",
     "text": [
      "[[1 1 1 1 1 1 1 1]\n",
      " [1 1 1 1 1 1 1 1]\n",
      " [1 1 1 1 1 1 1 1]\n",
      " [1 1 1 1 1 1 1 1]\n",
      " [1 1 1 1 1 1 1 1]]\n"
     ]
    }
   ],
   "execution_count": 16
  },
  {
   "metadata": {
    "ExecuteTime": {
     "end_time": "2025-08-03T07:45:32.260557Z",
     "start_time": "2025-08-03T07:45:32.258146Z"
    }
   },
   "cell_type": "code",
   "source": [
    "# 未初始化\n",
    "arr = np.empty((2, 3), dtype=int)\n",
    "print(arr)"
   ],
   "id": "589135a7fefc9993",
   "outputs": [
    {
     "name": "stdout",
     "output_type": "stream",
     "text": [
      "[[0 0 0]\n",
      " [0 0 0]]\n"
     ]
    }
   ],
   "execution_count": 18
  },
  {
   "metadata": {
    "ExecuteTime": {
     "end_time": "2025-08-03T07:45:53.673632Z",
     "start_time": "2025-08-03T07:45:53.671417Z"
    }
   },
   "cell_type": "code",
   "source": [
    "arr = np.full((3, 4), 2025)\n",
    "print(arr)"
   ],
   "id": "279eee0653cbfa45",
   "outputs": [
    {
     "name": "stdout",
     "output_type": "stream",
     "text": [
      "[[2025 2025 2025 2025]\n",
      " [2025 2025 2025 2025]\n",
      " [2025 2025 2025 2025]]\n"
     ]
    }
   ],
   "execution_count": 19
  },
  {
   "metadata": {
    "ExecuteTime": {
     "end_time": "2025-08-03T07:47:11.449321Z",
     "start_time": "2025-08-03T07:47:11.444523Z"
    }
   },
   "cell_type": "code",
   "source": [
    "arr1 = np.zeros_like(arr)\n",
    "print(arr1)\n",
    "print('-' * 20)\n",
    "\n",
    "arr1 = np.empty_like(arr)\n",
    "print(arr1)\n",
    "print('-' * 20)\n",
    "\n",
    "arr1 = np.ones_like(arr)\n",
    "print(arr1)\n",
    "print('-' * 20)\n",
    "\n",
    "arr1 = np.full_like(arr, 2027)\n",
    "print(arr1)"
   ],
   "id": "419177acd9864ae0",
   "outputs": [
    {
     "name": "stdout",
     "output_type": "stream",
     "text": [
      "[[0 0 0 0]\n",
      " [0 0 0 0]\n",
      " [0 0 0 0]]\n",
      "--------------------\n",
      "[[2027 2027 2027 2027]\n",
      " [2027 2027 2027 2027]\n",
      " [2027 2027 2027 2027]]\n",
      "--------------------\n",
      "[[1 1 1 1]\n",
      " [1 1 1 1]\n",
      " [1 1 1 1]]\n",
      "--------------------\n",
      "[[2027 2027 2027 2027]\n",
      " [2027 2027 2027 2027]\n",
      " [2027 2027 2027 2027]]\n"
     ]
    }
   ],
   "execution_count": 21
  },
  {
   "metadata": {
    "ExecuteTime": {
     "end_time": "2025-08-03T07:48:11.483881Z",
     "start_time": "2025-08-03T07:48:11.481330Z"
    }
   },
   "cell_type": "code",
   "source": [
    "# 等差数列：2 4 6 8 10 12\n",
    "arr = np.arange(2, 51, 2)\n",
    "print(arr)"
   ],
   "id": "dea518086c805ede",
   "outputs": [
    {
     "name": "stdout",
     "output_type": "stream",
     "text": [
      "[ 2  4  6  8 10 12 14 16 18 20 22 24 26 28 30 32 34 36 38 40 42 44 46 48\n",
      " 50]\n"
     ]
    }
   ],
   "execution_count": 24
  },
  {
   "metadata": {
    "ExecuteTime": {
     "end_time": "2025-08-03T07:48:47.499494Z",
     "start_time": "2025-08-03T07:48:47.496697Z"
    }
   },
   "cell_type": "code",
   "source": [
    "# 等间隔数列\n",
    "arr = np.linspace(0, 100, 5)\n",
    "print(arr)"
   ],
   "id": "6537cb9edaa975e6",
   "outputs": [
    {
     "name": "stdout",
     "output_type": "stream",
     "text": [
      "[  0.  25.  50.  75. 100.]\n"
     ]
    }
   ],
   "execution_count": 25
  },
  {
   "metadata": {
    "ExecuteTime": {
     "end_time": "2025-08-03T07:49:41.458776Z",
     "start_time": "2025-08-03T07:49:41.455781Z"
    }
   },
   "cell_type": "code",
   "source": [
    "arr = np.linspace(0, 100, 5, dtype=int)\n",
    "print(arr)\n",
    "print('-' * 20)\n",
    "\n",
    "arr = np.arange(0, 101, 25)\n",
    "print(arr)"
   ],
   "id": "28eed1bd74b25b12",
   "outputs": [
    {
     "name": "stdout",
     "output_type": "stream",
     "text": [
      "[  0  25  50  75 100]\n",
      "--------------------\n",
      "[  0  25  50  75 100]\n"
     ]
    }
   ],
   "execution_count": 26
  },
  {
   "metadata": {
    "ExecuteTime": {
     "end_time": "2025-08-03T07:50:18.786928Z",
     "start_time": "2025-08-03T07:50:18.784331Z"
    }
   },
   "cell_type": "code",
   "source": [
    "# 对数间隔数列\n",
    "arr = np.logspace(0, 4, 3, base=2)\n",
    "print(arr)"
   ],
   "id": "33f32b615bb18c68",
   "outputs": [
    {
     "name": "stdout",
     "output_type": "stream",
     "text": [
      "[ 1.  4. 16.]\n"
     ]
    }
   ],
   "execution_count": 27
  },
  {
   "metadata": {
    "ExecuteTime": {
     "end_time": "2025-08-03T07:50:40.831155Z",
     "start_time": "2025-08-03T07:50:40.827558Z"
    }
   },
   "cell_type": "code",
   "source": [
    "arr = np.linspace(0,4,3)\n",
    "print(arr)"
   ],
   "id": "1fbef58a0edd3f4",
   "outputs": [
    {
     "name": "stdout",
     "output_type": "stream",
     "text": [
      "[0. 2. 4.]\n"
     ]
    }
   ],
   "execution_count": 28
  },
  {
   "metadata": {
    "ExecuteTime": {
     "end_time": "2025-08-03T07:50:58.707986Z",
     "start_time": "2025-08-03T07:50:58.704414Z"
    }
   },
   "cell_type": "code",
   "source": [
    "arr = np.logspace(0,4,3)\n",
    "print(arr)"
   ],
   "id": "15372c4f1cf19cf8",
   "outputs": [
    {
     "name": "stdout",
     "output_type": "stream",
     "text": [
      "[1.e+00 1.e+02 1.e+04]\n"
     ]
    }
   ],
   "execution_count": 29
  },
  {
   "metadata": {
    "ExecuteTime": {
     "end_time": "2025-08-03T07:52:11.457184Z",
     "start_time": "2025-08-03T07:52:11.453583Z"
    }
   },
   "cell_type": "code",
   "source": [
    "# 特殊矩阵\n",
    "# 单位矩阵：主对角线上的数字为1， 其它的数字为0\n",
    "arr = np.eye(3, 4, dtype=int)\n",
    "print(arr)"
   ],
   "id": "60d12ad1c9442cc1",
   "outputs": [
    {
     "name": "stdout",
     "output_type": "stream",
     "text": [
      "[[1 0 0 0]\n",
      " [0 1 0 0]\n",
      " [0 0 1 0]]\n"
     ]
    }
   ],
   "execution_count": 30
  },
  {
   "metadata": {
    "ExecuteTime": {
     "end_time": "2025-08-03T07:53:19.128117Z",
     "start_time": "2025-08-03T07:53:19.125992Z"
    }
   },
   "cell_type": "code",
   "source": [
    "# 对角矩阵：主对角线上非零的0，其它的数字为0\n",
    "arr = np.diag([5, 1, 2, 3])\n",
    "print(arr)"
   ],
   "id": "f2fc56b097c28711",
   "outputs": [
    {
     "name": "stdout",
     "output_type": "stream",
     "text": [
      "[[5 0 0 0]\n",
      " [0 1 0 0]\n",
      " [0 0 2 0]\n",
      " [0 0 0 3]]\n"
     ]
    }
   ],
   "execution_count": 31
  },
  {
   "metadata": {
    "ExecuteTime": {
     "end_time": "2025-08-03T07:54:05.772734Z",
     "start_time": "2025-08-03T07:54:05.767465Z"
    }
   },
   "cell_type": "code",
   "source": [
    "# 随机数组的生成\n",
    "# 生成0到1之间的随机浮点数（均匀分布）\n",
    "arr = np.random.randn(2, 3)\n",
    "print(arr)"
   ],
   "id": "562bf6bf63ad7856",
   "outputs": [
    {
     "name": "stdout",
     "output_type": "stream",
     "text": [
      "[[ 0.63189019 -0.02712345  1.70420619]\n",
      " [ 0.21088984 -1.11752488  0.67811641]]\n"
     ]
    }
   ],
   "execution_count": 33
  },
  {
   "metadata": {
    "ExecuteTime": {
     "end_time": "2025-08-03T07:54:50.994683Z",
     "start_time": "2025-08-03T07:54:50.992520Z"
    }
   },
   "cell_type": "code",
   "source": [
    "# 生成指定范围区间的随机浮点数\n",
    "arr = np.random.uniform(3, 6, (2, 3))\n",
    "print(arr)"
   ],
   "id": "6b1fb889a288d272",
   "outputs": [
    {
     "name": "stdout",
     "output_type": "stream",
     "text": [
      "[[3.21399134 4.99958858 5.36119099]\n",
      " [5.97432585 3.66681524 3.76777428]]\n"
     ]
    }
   ],
   "execution_count": 34
  },
  {
   "metadata": {
    "ExecuteTime": {
     "end_time": "2025-08-03T07:55:33.251093Z",
     "start_time": "2025-08-03T07:55:33.247088Z"
    }
   },
   "cell_type": "code",
   "source": [
    "# 生成指定范围区间的随机整数\n",
    "arr = np.random.randint(3, 20, (2, 3))\n",
    "print(arr)"
   ],
   "id": "a6f4192ab05c34e5",
   "outputs": [
    {
     "name": "stdout",
     "output_type": "stream",
     "text": [
      "[[18 15 19]\n",
      " [16  8  3]]\n"
     ]
    }
   ],
   "execution_count": 35
  },
  {
   "metadata": {
    "ExecuteTime": {
     "end_time": "2025-08-03T07:56:27.308945Z",
     "start_time": "2025-08-03T07:56:27.306205Z"
    }
   },
   "cell_type": "code",
   "source": [
    "# 生成随机数列（正态分布）（-3到3之间）\n",
    "# 两边小，中间大\n",
    "arr = np.random.randn(2, 3)\n",
    "print(arr)"
   ],
   "id": "7f05b7bd85a3b4e5",
   "outputs": [
    {
     "name": "stdout",
     "output_type": "stream",
     "text": [
      "[[ 0.2328792   0.57942815 -2.21782924]\n",
      " [ 0.85930312  1.27739771 -0.58205323]]\n"
     ]
    }
   ],
   "execution_count": 36
  },
  {
   "metadata": {
    "ExecuteTime": {
     "end_time": "2025-08-03T07:57:09.923481Z",
     "start_time": "2025-08-03T07:57:09.921137Z"
    }
   },
   "cell_type": "code",
   "source": [
    "# 设置随机种子\n",
    "np.random.seed(20)\n",
    "arr = np.random.randint(1, 10, (2, 5))\n",
    "print(arr)"
   ],
   "id": "d24fb87d99ba1d85",
   "outputs": [
    {
     "name": "stdout",
     "output_type": "stream",
     "text": [
      "[[4 5 7 8 3]\n",
      " [1 7 9 6 4]]\n"
     ]
    }
   ],
   "execution_count": 37
  },
  {
   "metadata": {},
   "cell_type": "markdown",
   "source": "## 4. ndarray的数据类型",
   "id": "6140a732e76c0fe1"
  },
  {
   "metadata": {},
   "cell_type": "markdown",
   "source": [
    "### 布尔类型 bool\n",
    "### 整数类型 int uint\n",
    "### 浮点数 float\n",
    "### 复数 complex"
   ],
   "id": "69123aa10ab9bbf8"
  },
  {
   "metadata": {
    "ExecuteTime": {
     "end_time": "2025-08-03T08:01:27.176058Z",
     "start_time": "2025-08-03T08:01:27.172014Z"
    }
   },
   "cell_type": "code",
   "source": [
    "arr = np.array([1, 0, 127, 0], dtype=bool)\n",
    "print(arr)\n",
    "\n",
    "arr = np.array([1, 0, 127, 0], dtype=np.int8)\n",
    "print(arr)\n",
    "\n",
    "arr = np.array([1, 2, 3], dtype='i8')\n",
    "print(arr)"
   ],
   "id": "a0d764f3cc1a3315",
   "outputs": [
    {
     "name": "stdout",
     "output_type": "stream",
     "text": [
      "[ True False  True False]\n",
      "[  1   0 127   0]\n",
      "[1 2 3]\n"
     ]
    }
   ],
   "execution_count": 38
  },
  {
   "metadata": {},
   "cell_type": "markdown",
   "source": "## 5. 索引与切片",
   "id": "c504b8c31e5ff0b0"
  },
  {
   "metadata": {
    "ExecuteTime": {
     "end_time": "2025-08-03T08:02:48.229205Z",
     "start_time": "2025-08-03T08:02:48.225395Z"
    }
   },
   "cell_type": "code",
   "source": [
    "# 一维数组的索引与切片\n",
    "arr = np.random.randint(1, 100, 20)\n",
    "print(arr)"
   ],
   "id": "5309ddcfcdb79dce",
   "outputs": [
    {
     "name": "stdout",
     "output_type": "stream",
     "text": [
      "[17 63 17  8 99  7 27 14 76 59 26  4 75 76 62 78 84 58 95 33]\n"
     ]
    }
   ],
   "execution_count": 39
  },
  {
   "metadata": {
    "ExecuteTime": {
     "end_time": "2025-08-03T08:03:43.951570Z",
     "start_time": "2025-08-03T08:03:43.944493Z"
    }
   },
   "cell_type": "code",
   "source": [
    "print(arr[10])\n",
    "print(arr[:])   # 获取全部\n",
    "print(arr[2:5])\n",
    "print(arr[slice(2, 15, 3)])\n",
    "print(arr[(arr>10) & (arr < 70)])"
   ],
   "id": "9516775625c4ac36",
   "outputs": [
    {
     "name": "stdout",
     "output_type": "stream",
     "text": [
      "26\n",
      "[17 63 17  8 99  7 27 14 76 59 26  4 75 76 62 78 84 58 95 33]\n",
      "[17  8 99]\n",
      "[17  7 76  4 62]\n",
      "[17 63 17 27 14 59 26 62 58 33]\n"
     ]
    }
   ],
   "execution_count": 40
  },
  {
   "metadata": {
    "ExecuteTime": {
     "end_time": "2025-08-03T08:05:13.376487Z",
     "start_time": "2025-08-03T08:05:13.371950Z"
    }
   },
   "cell_type": "code",
   "source": [
    "# 二维数组的索引与切片\n",
    "arr = np.random.randint(1,100,(4,8))\n",
    "print(arr)\n",
    "print('-' * 20)\n",
    "\n",
    "print(arr[1,3])  # 索引\n",
    "print(arr[1,2:5])\n",
    "print(arr[2][arr[2] > 50])\n",
    "print(arr[:,3])"
   ],
   "id": "62ea63de04368156",
   "outputs": [
    {
     "name": "stdout",
     "output_type": "stream",
     "text": [
      "[[24 53 97 77 79 96 55 82]\n",
      " [74 28 40 88 10 15 32 57]\n",
      " [57 59 80 28 51 75 70  3]\n",
      " [58 24 96 26 42 10 67 16]]\n",
      "--------------------\n",
      "88\n",
      "[40 88 10]\n",
      "[57 59 80 51 75 70]\n",
      "[77 88 28 26]\n"
     ]
    }
   ],
   "execution_count": 43
  },
  {
   "metadata": {},
   "cell_type": "markdown",
   "source": "## 6. ndarry的运算",
   "id": "a00a3d9e9d1e71a3"
  },
  {
   "metadata": {
    "ExecuteTime": {
     "end_time": "2025-08-03T08:07:09.355230Z",
     "start_time": "2025-08-03T08:07:09.348925Z"
    }
   },
   "cell_type": "code",
   "source": [
    "# 算数运算\n",
    "a = np.array([1, 2, 3])\n",
    "b = np.array([4, 5, 6])\n",
    "print(a + b)\n",
    "print(a - b)\n",
    "print(a * b)\n",
    "print(a / b)\n",
    "print(a ** 2)"
   ],
   "id": "3f5146ef013c4887",
   "outputs": [
    {
     "name": "stdout",
     "output_type": "stream",
     "text": [
      "[5 7 9]\n",
      "[-3 -3 -3]\n",
      "[ 4 10 18]\n",
      "[0.25 0.4  0.5 ]\n",
      "[1 4 9]\n"
     ]
    }
   ],
   "execution_count": 44
  },
  {
   "metadata": {
    "ExecuteTime": {
     "end_time": "2025-08-03T08:07:49.979799Z",
     "start_time": "2025-08-03T08:07:49.976566Z"
    }
   },
   "cell_type": "code",
   "source": [
    "c = [1, 2, 3]\n",
    "d = [4, 5, 6]\n",
    "for i in range(len(c)):\n",
    "    d[i] = c[i] + d[i]\n",
    "print(d)"
   ],
   "id": "5dd99ee09a853af8",
   "outputs": [
    {
     "name": "stdout",
     "output_type": "stream",
     "text": [
      "[5, 7, 9]\n"
     ]
    }
   ],
   "execution_count": 45
  },
  {
   "metadata": {
    "ExecuteTime": {
     "end_time": "2025-08-03T08:09:03.575173Z",
     "start_time": "2025-08-03T08:09:03.568529Z"
    }
   },
   "cell_type": "code",
   "source": [
    "a = np.array([[1, 2, 3], [4, 5, 6], [7, 8, 9]])\n",
    "b = np.array([[4, 5, 6], [7, 8, 9], [10, 11, 12]])\n",
    "print(a + b)\n",
    "print('-' * 20)\n",
    "\n",
    "print(a - b)\n",
    "print('-' * 20)\n",
    "\n",
    "print(a * b)\n",
    "print('-' * 20)\n",
    "\n",
    "print(a / b)\n",
    "print('-' * 20)\n",
    "\n",
    "print(a ** 2)"
   ],
   "id": "4eadab8c6f82712d",
   "outputs": [
    {
     "name": "stdout",
     "output_type": "stream",
     "text": [
      "[[ 5  7  9]\n",
      " [11 13 15]\n",
      " [17 19 21]]\n",
      "--------------------\n",
      "[[-3 -3 -3]\n",
      " [-3 -3 -3]\n",
      " [-3 -3 -3]]\n",
      "--------------------\n",
      "[[  4  10  18]\n",
      " [ 28  40  54]\n",
      " [ 70  88 108]]\n",
      "--------------------\n",
      "[[0.25       0.4        0.5       ]\n",
      " [0.57142857 0.625      0.66666667]\n",
      " [0.7        0.72727273 0.75      ]]\n",
      "--------------------\n",
      "[[ 1  4  9]\n",
      " [16 25 36]\n",
      " [49 64 81]]\n"
     ]
    }
   ],
   "execution_count": 47
  },
  {
   "metadata": {
    "ExecuteTime": {
     "end_time": "2025-08-03T08:10:18.820629Z",
     "start_time": "2025-08-03T08:10:18.815806Z"
    }
   },
   "cell_type": "code",
   "source": [
    "# 数组与标量之间的算术运算\n",
    "a = np.array([[1,2,3],[4,5,6],[7,8,9]])\n",
    "print(a + 3)\n",
    "print(a * 3)"
   ],
   "id": "59d065d025fb2737",
   "outputs": [
    {
     "name": "stdout",
     "output_type": "stream",
     "text": [
      "[[ 4  5  6]\n",
      " [ 7  8  9]\n",
      " [10 11 12]]\n",
      "[[ 3  6  9]\n",
      " [12 15 18]\n",
      " [21 24 27]]\n"
     ]
    }
   ],
   "execution_count": 48
  },
  {
   "metadata": {
    "ExecuteTime": {
     "end_time": "2025-08-03T08:10:38.977382Z",
     "start_time": "2025-08-03T08:10:38.969243Z"
    }
   },
   "cell_type": "code",
   "source": [
    "# 广播机制: 1.获取形状 2.是否可广播\n",
    "# 同一维度：相同、1\n",
    "a = np.array([1,2,3]) #1*3\n",
    "b = np.array([[4],[5],[6]])  #3*1\n",
    "print(b - a )\n",
    "'''a\n",
    " 1 2 3\n",
    " 1 2 3\n",
    " 1 2 3\n",
    " b\n",
    " 4 4 4\n",
    " 5 5 5\n",
    " 6 6 6\n",
    "'''"
   ],
   "id": "9d712bfc3424c486",
   "outputs": [
    {
     "name": "stdout",
     "output_type": "stream",
     "text": [
      "[[3 2 1]\n",
      " [4 3 2]\n",
      " [5 4 3]]\n"
     ]
    },
    {
     "data": {
      "text/plain": [
       "'a\\n 1 2 3\\n 1 2 3\\n 1 2 3\\n b\\n 4 4 4\\n 5 5 5\\n 6 6 6\\n'"
      ]
     },
     "execution_count": 49,
     "metadata": {},
     "output_type": "execute_result"
    }
   ],
   "execution_count": 49
  },
  {
   "metadata": {},
   "cell_type": "code",
   "source": [
    "# 错误的例子\n",
    "a = np.array([1,2,3]) #1*3\n",
    "b = np.array([4,5])  #1*2\n",
    "print(b - a)"
   ],
   "id": "d59e02ddaf666c8",
   "outputs": [],
   "execution_count": null
  },
  {
   "metadata": {
    "ExecuteTime": {
     "end_time": "2025-08-03T08:12:54.004721Z",
     "start_time": "2025-08-03T08:12:53.998210Z"
    }
   },
   "cell_type": "code",
   "source": [
    "# 矩阵运算\n",
    "a = np.array([[1,2,3],[4,5,6],[7,8,9]])\n",
    "b = np.array([[4,5,6],[7,8,9],[1, 2,3]])\n",
    "print(a @ b)"
   ],
   "id": "a08de123b134bbbd",
   "outputs": [
    {
     "name": "stdout",
     "output_type": "stream",
     "text": [
      "[[ 21  27  33]\n",
      " [ 57  72  87]\n",
      " [ 93 117 141]]\n"
     ]
    }
   ],
   "execution_count": 51
  },
  {
   "metadata": {},
   "cell_type": "code",
   "outputs": [],
   "execution_count": null,
   "source": [
    "'''\n",
    "a\n",
    "1 2 3\n",
    "4 5 6\n",
    "7 8 9\n",
    "\n",
    "b\n",
    "4 5 6\n",
    "7 8 9\n",
    "\n",
    "1 2 3\n",
    "'''"
   ],
   "id": "40f2fe0024d3f33a"
  },
  {
   "metadata": {},
   "cell_type": "markdown",
   "source": "# 2.3 numpy中的常用函数",
   "id": "f7c4778bd5d01efc"
  },
  {
   "metadata": {},
   "cell_type": "markdown",
   "source": "## 1. 基本数学函数",
   "id": "849bde877343229f"
  },
  {
   "metadata": {
    "ExecuteTime": {
     "end_time": "2025-08-03T08:14:42.694769Z",
     "start_time": "2025-08-03T08:14:42.688307Z"
    }
   },
   "cell_type": "code",
   "source": [
    "# 计算平方根\n",
    "print(np.sqrt(9))\n",
    "print(np.sqrt([1,4,9]))\n",
    "arr = np.array([1,25,81])\n",
    "print(np.sqrt(arr))"
   ],
   "id": "bf74e2f5f6da925",
   "outputs": [
    {
     "name": "stdout",
     "output_type": "stream",
     "text": [
      "3.0\n",
      "[1. 2. 3.]\n",
      "[1. 5. 9.]\n"
     ]
    }
   ],
   "execution_count": 52
  },
  {
   "metadata": {
    "ExecuteTime": {
     "end_time": "2025-08-03T08:56:52.556674Z",
     "start_time": "2025-08-03T08:56:52.545740Z"
    }
   },
   "cell_type": "code",
   "source": [
    "# 计算指数\n",
    "print(np.exp(1))"
   ],
   "id": "59cae982affad5aa",
   "outputs": [
    {
     "name": "stdout",
     "output_type": "stream",
     "text": [
      "2.718281828459045\n"
     ]
    }
   ],
   "execution_count": 53
  },
  {
   "metadata": {
    "ExecuteTime": {
     "end_time": "2025-08-03T08:57:09.308290Z",
     "start_time": "2025-08-03T08:57:09.304462Z"
    }
   },
   "cell_type": "code",
   "source": [
    "# 计算自然对数\n",
    "print(np.log(2.71))"
   ],
   "id": "a6526832b44b212",
   "outputs": [
    {
     "name": "stdout",
     "output_type": "stream",
     "text": [
      "0.9969486348916096\n"
     ]
    }
   ],
   "execution_count": 54
  },
  {
   "metadata": {
    "ExecuteTime": {
     "end_time": "2025-08-03T08:57:52.252382Z",
     "start_time": "2025-08-03T08:57:52.249143Z"
    }
   },
   "cell_type": "code",
   "source": [
    "# 计算正弦值、余弦值\n",
    "print(np.sin(np.pi/2))\n",
    "print(np.cos(np.pi))"
   ],
   "id": "d88a4f33d1c8f658",
   "outputs": [
    {
     "name": "stdout",
     "output_type": "stream",
     "text": [
      "1.0\n",
      "-1.0\n"
     ]
    }
   ],
   "execution_count": 56
  },
  {
   "metadata": {
    "ExecuteTime": {
     "end_time": "2025-08-03T08:58:25.875512Z",
     "start_time": "2025-08-03T08:58:25.870629Z"
    }
   },
   "cell_type": "code",
   "source": [
    "# 计算绝对值\n",
    "arr = np.array([-1, 1, 2, -3])\n",
    "print(np.abs(arr))"
   ],
   "id": "c0635df605b5d38c",
   "outputs": [
    {
     "name": "stdout",
     "output_type": "stream",
     "text": [
      "[1 1 2 3]\n"
     ]
    }
   ],
   "execution_count": 57
  },
  {
   "metadata": {
    "ExecuteTime": {
     "end_time": "2025-08-03T08:58:54.213740Z",
     "start_time": "2025-08-03T08:58:54.208438Z"
    }
   },
   "cell_type": "code",
   "source": [
    "# 计算a的b次幂\n",
    "print(np.power(arr, 3))"
   ],
   "id": "608d99bc186df509",
   "outputs": [
    {
     "name": "stdout",
     "output_type": "stream",
     "text": [
      "[ -1   1   8 -27]\n"
     ]
    }
   ],
   "execution_count": 58
  },
  {
   "metadata": {
    "ExecuteTime": {
     "end_time": "2025-08-03T08:59:17.528775Z",
     "start_time": "2025-08-03T08:59:17.524047Z"
    }
   },
   "cell_type": "code",
   "source": [
    "# 四舍五入\n",
    "print(np.round([3.2, 43.5, 8.1, 9.6]))"
   ],
   "id": "4ef71bc26f0d8f13",
   "outputs": [
    {
     "name": "stdout",
     "output_type": "stream",
     "text": [
      "[ 3. 44.  8. 10.]\n"
     ]
    }
   ],
   "execution_count": 59
  },
  {
   "metadata": {
    "ExecuteTime": {
     "end_time": "2025-08-03T09:00:08.802242Z",
     "start_time": "2025-08-03T09:00:08.797999Z"
    }
   },
   "cell_type": "code",
   "source": [
    "# 向上取整、向下取整\n",
    "arr = np.array([1.6, 25.1, 81.7])\n",
    "print(np.ceil(arr))\n",
    "print(np.floor(arr))"
   ],
   "id": "1ca707bb2c59ba77",
   "outputs": [
    {
     "name": "stdout",
     "output_type": "stream",
     "text": [
      "[ 2. 26. 82.]\n",
      "[ 1. 25. 81.]\n"
     ]
    }
   ],
   "execution_count": 60
  },
  {
   "metadata": {
    "ExecuteTime": {
     "end_time": "2025-08-03T09:00:38.433421Z",
     "start_time": "2025-08-03T09:00:38.428661Z"
    }
   },
   "cell_type": "code",
   "source": [
    "# 检测缺失值\n",
    "np.isnan([1, 2, np.nan, 3])"
   ],
   "id": "1c8dd24c349d15cb",
   "outputs": [
    {
     "data": {
      "text/plain": [
       "array([False, False,  True, False])"
      ]
     },
     "execution_count": 61,
     "metadata": {},
     "output_type": "execute_result"
    }
   ],
   "execution_count": 61
  },
  {
   "metadata": {},
   "cell_type": "markdown",
   "source": "## 2. 统计函数",
   "id": "5958ada620a759c0"
  },
  {
   "metadata": {},
   "cell_type": "markdown",
   "source": [
    "### 求和、计算平均值、计算中位数、标准差、方差\n",
    "### 查找最大值、最小值\n",
    "### 计算份位数、累积值、累积差"
   ],
   "id": "e91052f5be5dc754"
  },
  {
   "metadata": {
    "ExecuteTime": {
     "end_time": "2025-08-03T09:02:25.038491Z",
     "start_time": "2025-08-03T09:02:25.034052Z"
    }
   },
   "cell_type": "code",
   "source": [
    "arr = np.random.randint(1, 200, 8)\n",
    "print(arr)"
   ],
   "id": "23669f7bee0dd98b",
   "outputs": [
    {
     "name": "stdout",
     "output_type": "stream",
     "text": [
      "[119 194  31  89  50 169 140  70]\n"
     ]
    }
   ],
   "execution_count": 62
  },
  {
   "metadata": {
    "ExecuteTime": {
     "end_time": "2025-08-03T09:03:41.766670Z",
     "start_time": "2025-08-03T09:03:41.763167Z"
    }
   },
   "cell_type": "code",
   "source": [
    "# 求和\n",
    "print(np.sum([1, 2, 3]))"
   ],
   "id": "d5e386973646924",
   "outputs": [
    {
     "name": "stdout",
     "output_type": "stream",
     "text": [
      "6\n"
     ]
    }
   ],
   "execution_count": 63
  },
  {
   "metadata": {
    "ExecuteTime": {
     "end_time": "2025-08-03T09:04:08.854370Z",
     "start_time": "2025-08-03T09:04:08.849566Z"
    }
   },
   "cell_type": "code",
   "source": [
    "# 计算平均值\n",
    "print(np.mean(arr))"
   ],
   "id": "f644475b2630da44",
   "outputs": [
    {
     "name": "stdout",
     "output_type": "stream",
     "text": [
      "107.75\n"
     ]
    }
   ],
   "execution_count": 64
  },
  {
   "metadata": {
    "ExecuteTime": {
     "end_time": "2025-08-03T09:05:18.870981Z",
     "start_time": "2025-08-03T09:05:18.864244Z"
    }
   },
   "cell_type": "code",
   "source": [
    "# 计算中位数\n",
    "# 奇数：排序后中间的数值\n",
    "# 偶数：中间的两个数的平均值\n",
    "print(np.median([4,1,2]))\n",
    "print(np.median([1,1,1,1,1,1,1,1,100]))"
   ],
   "id": "6adec18dab612b83",
   "outputs": [
    {
     "name": "stdout",
     "output_type": "stream",
     "text": [
      "2.0\n",
      "1.0\n"
     ]
    }
   ],
   "execution_count": 65
  },
  {
   "metadata": {
    "ExecuteTime": {
     "end_time": "2025-08-03T09:07:30.541097Z",
     "start_time": "2025-08-03T09:07:30.536201Z"
    }
   },
   "cell_type": "code",
   "source": [
    "# 计算标准差、方差\n",
    "# 1，2，3的平均值2\n",
    "# ((102)^2 + (2-2)^2 + (3-2)^2) / 3 = 0.66\n",
    "arr1 = np.array([1,2,1,2,1,1,1,2])\n",
    "arr2 = np.array([1,0,3,0,0,0,4,3])\n",
    "print(np.mean(arr1))\n",
    "print(np.mean(arr2))\n",
    "print(np.var(arr1))\n",
    "print(np.var(arr2))"
   ],
   "id": "bebf0f39b918ad53",
   "outputs": [
    {
     "name": "stdout",
     "output_type": "stream",
     "text": [
      "1.375\n",
      "1.375\n",
      "0.234375\n",
      "2.484375\n"
     ]
    }
   ],
   "execution_count": 66
  },
  {
   "metadata": {
    "ExecuteTime": {
     "end_time": "2025-08-03T09:08:09.784923Z",
     "start_time": "2025-08-03T09:08:09.780432Z"
    }
   },
   "cell_type": "code",
   "source": [
    "# 计算最大值、最小值\n",
    "print(arr)\n",
    "print(np.max(arr), np.argmax(arr))\n",
    "print(np.min(arr), np.argmin(arr))"
   ],
   "id": "853ac87dce4d18a5",
   "outputs": [
    {
     "name": "stdout",
     "output_type": "stream",
     "text": [
      "[119 194  31  89  50 169 140  70]\n",
      "194 1\n",
      "31 2\n"
     ]
    }
   ],
   "execution_count": 67
  },
  {
   "metadata": {
    "ExecuteTime": {
     "end_time": "2025-08-03T09:10:22.802112Z",
     "start_time": "2025-08-03T09:10:22.797698Z"
    }
   },
   "cell_type": "code",
   "source": [
    "# 分位数\n",
    "# 中位数\n",
    "# --------\n",
    "# 1     2       3       4\n",
    "# 1         2           3\n",
    "print(np.median([1,2,3]))\n",
    "print(np.median([1,2,3,4]))\n",
    "np.random.seed(0)\n",
    "arr = np.random.randint(0, 100, 4)\n",
    "print(arr)\n",
    "# __________________\n",
    "print('-' * 20)\n",
    "# 44   47   64   67\n",
    "# (47+64)/2\n",
    "print(np.median(arr))\n",
    "print(np.percentile(arr,80))\n",
    "# 0.25*3=0.75\n",
    "# (47-44)*0.75=2.25 + 44 = 46.25\n",
    "# 3*0.8 = 2.4\n",
    "# (67-64)*0.4 = 1.2 + 64 = 65.2"
   ],
   "id": "d1c329b933ec70a0",
   "outputs": [
    {
     "name": "stdout",
     "output_type": "stream",
     "text": [
      "2.0\n",
      "2.5\n",
      "[44 47 64 67]\n",
      "--------------------\n",
      "55.5\n",
      "65.2\n"
     ]
    }
   ],
   "execution_count": 70
  },
  {
   "metadata": {
    "ExecuteTime": {
     "end_time": "2025-08-03T09:11:22.407309Z",
     "start_time": "2025-08-03T09:11:22.403118Z"
    }
   },
   "cell_type": "code",
   "source": [
    "# 累积和、累积积\n",
    "arr = np.array([1, 2, 3])\n",
    "print(np.sum(arr))\n",
    "print(np.cumsum(arr))\n",
    "print(np.cumprod(arr))"
   ],
   "id": "fa7a805a77c70fb2",
   "outputs": [
    {
     "name": "stdout",
     "output_type": "stream",
     "text": [
      "6\n",
      "[1 3 6]\n",
      "[1 2 6]\n"
     ]
    }
   ],
   "execution_count": 71
  }
 ],
 "metadata": {
  "kernelspec": {
   "display_name": "Python [conda env:base] *",
   "language": "python",
   "name": "conda-base-py"
  },
  "language_info": {
   "codemirror_mode": {
    "name": "ipython",
    "version": 2
   },
   "file_extension": ".py",
   "mimetype": "text/x-python",
   "name": "python",
   "nbconvert_exporter": "python",
   "pygments_lexer": "ipython2",
   "version": "2.7.6"
  }
 },
 "nbformat": 4,
 "nbformat_minor": 5
}
